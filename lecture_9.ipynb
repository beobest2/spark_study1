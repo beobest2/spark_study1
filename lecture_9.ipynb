{
 "cells": [
  {
   "cell_type": "code",
   "execution_count": 1,
   "id": "c68dd305-a581-4b78-8cc7-11e3e320cf27",
   "metadata": {},
   "outputs": [],
   "source": [
    "from pyspark.sql import (\n",
    "    functions,\n",
    "    Row,\n",
    "    SparkSession\n",
    ")"
   ]
  },
  {
   "cell_type": "code",
   "execution_count": 2,
   "id": "43ad84c2-95f3-4ac8-83c4-4ef35599f211",
   "metadata": {},
   "outputs": [],
   "source": [
    "spark = SparkSession.builder.appName(\"df_wordcount\").getOrCreate()"
   ]
  },
  {
   "cell_type": "code",
   "execution_count": 3,
   "id": "c9b722e3-f7db-4e05-bed3-3272a62d61c9",
   "metadata": {},
   "outputs": [
    {
     "name": "stdout",
     "output_type": "stream",
     "text": [
      "+---+---------+----------------+\n",
      "|  a|  intlist|        mapfield|\n",
      "+---+---------+----------------+\n",
      "|  1|[1, 2, 3]|{d -> 1, a -> b}|\n",
      "+---+---------+----------------+\n",
      "\n"
     ]
    }
   ],
   "source": [
    "df = spark.createDataFrame([\n",
    "        Row(a=1,\n",
    "            intlist=[1, 2, 3],\n",
    "            mapfield={\"a\": \"b\", \"d\": 1}\n",
    "           )\n",
    "])\n",
    "df.show()"
   ]
  },
  {
   "cell_type": "code",
   "execution_count": 5,
   "id": "f40b57d2-b75a-4546-af7d-e5738de7412b",
   "metadata": {},
   "outputs": [
    {
     "name": "stdout",
     "output_type": "stream",
     "text": [
      "+-----+\n",
      "|anInt|\n",
      "+-----+\n",
      "|    1|\n",
      "|    2|\n",
      "|    3|\n",
      "+-----+\n",
      "\n"
     ]
    }
   ],
   "source": [
    "# functions.explode()\n",
    "# Returns a new row for each element in the given array or map\n",
    "df1 = df.select(functions.explode(df.intlist).alias(\"anInt\"))\n",
    "df1.show()"
   ]
  },
  {
   "cell_type": "code",
   "execution_count": 6,
   "id": "7c59aea2-b382-4855-a0b3-00fb08026e4e",
   "metadata": {},
   "outputs": [
    {
     "name": "stdout",
     "output_type": "stream",
     "text": [
      "+--------------------+\n",
      "|                word|\n",
      "+--------------------+\n",
      "|hello world and p...|\n",
      "+--------------------+\n",
      "\n",
      "+--------------------+\n",
      "|                word|\n",
      "+--------------------+\n",
      "|[hello, world, an...|\n",
      "+--------------------+\n",
      "\n",
      "+-------+\n",
      "|  words|\n",
      "+-------+\n",
      "|  hello|\n",
      "|  world|\n",
      "|    and|\n",
      "|pyspark|\n",
      "+-------+\n",
      "\n"
     ]
    }
   ],
   "source": [
    "# function.split(str, pattern, limit=-1)\n",
    "# Splits str around matches of the given pattern.\n",
    "df = spark.createDataFrame([\n",
    "    Row(word=\"hello world and pyspark\")])\n",
    "df.show()\n",
    "df = df.select(functions.split(df.word, ' ').alias(\"word\"))\n",
    "df.show()\n",
    "df = df.select(functions.explode(df.word).alias(\"words\"))\n",
    "df.show()"
   ]
  },
  {
   "cell_type": "code",
   "execution_count": 8,
   "id": "10cec142-f893-441c-9605-d2364c89d7a9",
   "metadata": {},
   "outputs": [
    {
     "name": "stdout",
     "output_type": "stream",
     "text": [
      "+----------------------------------------------------------------------------------------------------------------------------------------------------------------------------------------------------------------------------------------------------------------------------------------------------------------------------------------------------------------------------------------------------------------------------------------------------------------------------------------------------------------------------------------------------------------------------------------------+\n",
      "|value                                                                                                                                                                                                                                                                                                                                                                                                                                                                                                                                                                                         |\n",
      "+----------------------------------------------------------------------------------------------------------------------------------------------------------------------------------------------------------------------------------------------------------------------------------------------------------------------------------------------------------------------------------------------------------------------------------------------------------------------------------------------------------------------------------------------------------------------------------------------+\n",
      "|Lorem Ipsum is simply dummy text of the printing and typesetting industry. Lorem Ipsum has been the industry's standard dummy text ever since the 1500s, when an unknown printer took a galley of type and scrambled it to make a type specimen book. It has survived not only five centuries, but also the leap into electronic typesetting, remaining essentially unchanged. It was popularised in the 1960s with the release of Letraset sheets containing Lorem Ipsum passages, and more recently with desktop publishing software like Aldus PageMaker including versions of Lorem Ipsum.|\n",
      "+----------------------------------------------------------------------------------------------------------------------------------------------------------------------------------------------------------------------------------------------------------------------------------------------------------------------------------------------------------------------------------------------------------------------------------------------------------------------------------------------------------------------------------------------------------------------------------------------+\n",
      "\n"
     ]
    }
   ],
   "source": [
    "csv_file_path = \"file:///home/jovyan/work/lorem_ipsum.txt\"\n",
    "df = spark.read.text(csv_file_path)\n",
    "df.show(truncate=False)"
   ]
  },
  {
   "cell_type": "code",
   "execution_count": 9,
   "id": "9de2a0d6-4ca4-4a93-9ec2-6d4c61908e3b",
   "metadata": {},
   "outputs": [
    {
     "name": "stdout",
     "output_type": "stream",
     "text": [
      "+-----------+\n",
      "|       word|\n",
      "+-----------+\n",
      "|      Lorem|\n",
      "|      Ipsum|\n",
      "|         is|\n",
      "|     simply|\n",
      "|      dummy|\n",
      "|       text|\n",
      "|         of|\n",
      "|        the|\n",
      "|   printing|\n",
      "|        and|\n",
      "|typesetting|\n",
      "|  industry.|\n",
      "|      Lorem|\n",
      "|      Ipsum|\n",
      "|        has|\n",
      "|       been|\n",
      "|        the|\n",
      "| industry's|\n",
      "|   standard|\n",
      "|      dummy|\n",
      "+-----------+\n",
      "only showing top 20 rows\n",
      "\n"
     ]
    }
   ],
   "source": [
    "words = df.select(\n",
    "    functions.explode(\n",
    "        functions.split(df.value, ' ')).alias(\"word\"))\n",
    "words.show()"
   ]
  },
  {
   "cell_type": "code",
   "execution_count": 10,
   "id": "eca9b2e9-fa7a-4be1-b92a-28ae87b96512",
   "metadata": {},
   "outputs": [
    {
     "name": "stdout",
     "output_type": "stream",
     "text": [
      "+----------+-----+\n",
      "|      word|count|\n",
      "+----------+-----+\n",
      "|       the|    6|\n",
      "|     Lorem|    4|\n",
      "|        of|    4|\n",
      "|       and|    3|\n",
      "|     Ipsum|    3|\n",
      "|      with|    2|\n",
      "|        It|    2|\n",
      "|     dummy|    2|\n",
      "|      type|    2|\n",
      "|      text|    2|\n",
      "|         a|    2|\n",
      "|       has|    2|\n",
      "|publishing|    1|\n",
      "|unchanged.|    1|\n",
      "|    sheets|    1|\n",
      "|   desktop|    1|\n",
      "|       not|    1|\n",
      "|     1960s|    1|\n",
      "|  Letraset|    1|\n",
      "|    Ipsum.|    1|\n",
      "+----------+-----+\n",
      "only showing top 20 rows\n",
      "\n"
     ]
    }
   ],
   "source": [
    "words_counts = words.groupBy(\"word\").count().orderBy(functions.col(\"count\").desc())\n",
    "words_counts.show()"
   ]
  }
 ],
 "metadata": {
  "kernelspec": {
   "display_name": "Python 3 (ipykernel)",
   "language": "python",
   "name": "python3"
  },
  "language_info": {
   "codemirror_mode": {
    "name": "ipython",
    "version": 3
   },
   "file_extension": ".py",
   "mimetype": "text/x-python",
   "name": "python",
   "nbconvert_exporter": "python",
   "pygments_lexer": "ipython3",
   "version": "3.11.6"
  }
 },
 "nbformat": 4,
 "nbformat_minor": 5
}
