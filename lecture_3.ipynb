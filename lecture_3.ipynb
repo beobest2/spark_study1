{
 "cells": [
  {
   "cell_type": "code",
   "execution_count": 1,
   "id": "a1f4e3f1-b5f5-4079-b41b-9f4b153c3857",
   "metadata": {},
   "outputs": [],
   "source": [
    "import pyspark\n",
    "sc = pyspark.SparkContext.getOrCreate()"
   ]
  },
  {
   "cell_type": "code",
   "execution_count": 2,
   "id": "bea0922e-103d-46d2-bc4e-bf98e1ff433a",
   "metadata": {},
   "outputs": [
    {
     "data": {
      "text/plain": [
       "[('a', 2), ('b', 1)]"
      ]
     },
     "execution_count": 2,
     "metadata": {},
     "output_type": "execute_result"
    }
   ],
   "source": [
    "# reduceByKey() : 각 key 별로 value를 주어진 함수를 사용해서 합친다\n",
    "from operator import add\n",
    "rdd = sc.parallelize([(\"a\", 1), (\"b\", 1), (\"a\", 1)])\n",
    "sorted(rdd.reduceByKey(add).collect())"
   ]
  },
  {
   "cell_type": "code",
   "execution_count": 9,
   "id": "16ae79cd-f461-4ecb-88b7-69f7d5e25dc9",
   "metadata": {},
   "outputs": [
    {
     "name": "stdout",
     "output_type": "stream",
     "text": [
      "[('a', <pyspark.resultiterable.ResultIterable object at 0xffffa886bc50>), ('b', <pyspark.resultiterable.ResultIterable object at 0xffffa886b8d0>)]\n",
      "[('a', [1, 1]), ('b', [1])]\n"
     ]
    }
   ],
   "source": [
    "# groupByKey(): 각 key 별로 value를 그룹화 함\n",
    "rdd = sc.parallelize([(\"a\", 1), (\"b\", 1), (\"a\", 1)])\n",
    "print(sorted(rdd.groupByKey().collect()))\n",
    "print(sorted(rdd.groupByKey().mapValues(list).collect()))"
   ]
  },
  {
   "cell_type": "code",
   "execution_count": 10,
   "id": "26556364-1aa1-4c68-ab7b-f149c7e462da",
   "metadata": {},
   "outputs": [
    {
     "data": {
      "text/plain": [
       "('1', 3)"
      ]
     },
     "execution_count": 10,
     "metadata": {},
     "output_type": "execute_result"
    }
   ],
   "source": [
    "# sortByKey(): key를 기반으로 정렬\n",
    "tmp = [(\"a\", 1), (\"b\", 2), (\"1\", 3), (\"d\", 4), (\"2\", 5)]\n",
    "sc.parallelize(tmp).sortByKey().first()"
   ]
  },
  {
   "cell_type": "code",
   "execution_count": 13,
   "id": "8a5a7b1f-4195-408f-8a3a-ff8f152a4124",
   "metadata": {},
   "outputs": [
    {
     "data": {
      "text/plain": [
       "['a', 'b', 'a']"
      ]
     },
     "execution_count": 13,
     "metadata": {},
     "output_type": "execute_result"
    }
   ],
   "source": [
    "# keys(), values()\n",
    "rdd = sc.parallelize([(\"a\", 1), (\"b\", 1), (\"a\", 1)])\n",
    "rdd.keys().collect()"
   ]
  },
  {
   "cell_type": "code",
   "execution_count": 23,
   "id": "114a6ed6-903d-4520-b516-a6ae644aac2e",
   "metadata": {},
   "outputs": [
    {
     "data": {
      "text/plain": [
       "[('a', (1, 2)), ('b', (4, 3))]"
      ]
     },
     "execution_count": 23,
     "metadata": {},
     "output_type": "execute_result"
    }
   ],
   "source": [
    "# join, rightOuterJoin, leftOuterJoin, cogroup, subtractByKey\n",
    "\n",
    "rdd_x = sc.parallelize([(\"a\", 1), (\"b\", 4), (\"d\", 5)])\n",
    "rdd_y = sc.parallelize([(\"a\", 2), (\"b\", 3), (\"c\", 1)])\n",
    "sorted(rdd_x.join(rdd_y).collect())"
   ]
  }
 ],
 "metadata": {
  "kernelspec": {
   "display_name": "Python 3 (ipykernel)",
   "language": "python",
   "name": "python3"
  },
  "language_info": {
   "codemirror_mode": {
    "name": "ipython",
    "version": 3
   },
   "file_extension": ".py",
   "mimetype": "text/x-python",
   "name": "python",
   "nbconvert_exporter": "python",
   "pygments_lexer": "ipython3",
   "version": "3.11.6"
  }
 },
 "nbformat": 4,
 "nbformat_minor": 5
}
