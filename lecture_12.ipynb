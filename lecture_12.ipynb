{
 "cells": [
  {
   "cell_type": "code",
   "execution_count": 1,
   "id": "21d42e29-c5af-49de-9553-cd9c61dc1fe1",
   "metadata": {},
   "outputs": [],
   "source": [
    "from pyspark.sql import (\n",
    "    functions as f,\n",
    "    Row,\n",
    "    SparkSession,\n",
    "    types as t\n",
    ")\n",
    "\n",
    "spark = SparkSession.builder.appName(\"df_most_interviewed\").getOrCreate()"
   ]
  },
  {
   "cell_type": "code",
   "execution_count": 2,
   "id": "bbace7cb-3ce2-4820-bb26-fecd857b4e4f",
   "metadata": {},
   "outputs": [
    {
     "name": "stdout",
     "output_type": "stream",
     "text": [
      "+--------------+-------------+------+\n",
      "|interviewer_id|occupation_id|rating|\n",
      "+--------------+-------------+------+\n",
      "|         11657|         1100|     8|\n",
      "|         13727|         2030|     2|\n",
      "|         59892|         3801|     1|\n",
      "|          6538|         3021|     6|\n",
      "|         95811|         2030|     9|\n",
      "|         54500|         1100|    10|\n",
      "|         69741|         2030|     3|\n",
      "|         51166|         2030|    10|\n",
      "|         70009|         9382|     5|\n",
      "|         63152|         2030|     6|\n",
      "|         70758|         1100|     2|\n",
      "|         35580|         2030|     5|\n",
      "|         63199|         1100|    10|\n",
      "|         33078|         2030|     3|\n",
      "|         97480|         9382|     2|\n",
      "|         47223|         1100|     8|\n",
      "|         80308|         3021|     8|\n",
      "|         26691|         1100|     3|\n",
      "|         17194|         3021|     3|\n",
      "|         96584|         2030|     4|\n",
      "+--------------+-------------+------+\n",
      "only showing top 20 rows\n",
      "\n"
     ]
    }
   ],
   "source": [
    "csv_file_path = \"file:///home/jovyan/work/like.csv\"\n",
    "\n",
    "table_schema = t.StructType([\n",
    "    t.StructField(\"interviewer_id\", t.StringType(), False),\n",
    "    t.StructField(\"occupation_id\", t.StringType(), False),\n",
    "    t.StructField(\"rating\", t.IntegerType(), False)])\n",
    "\n",
    "df = spark.read.schema(table_schema).csv(csv_file_path)\n",
    "df.show()"
   ]
  },
  {
   "cell_type": "code",
   "execution_count": 3,
   "id": "425e0618-734a-438b-ab0d-b309aa94ab9d",
   "metadata": {},
   "outputs": [
    {
     "name": "stdout",
     "output_type": "stream",
     "text": [
      "+-------------+-----+\n",
      "|occupation_id|count|\n",
      "+-------------+-----+\n",
      "|         1100|  217|\n",
      "|         3801|  203|\n",
      "|         2030|  200|\n",
      "|         3021|  191|\n",
      "|         9382|  189|\n",
      "+-------------+-----+\n",
      "\n"
     ]
    }
   ],
   "source": [
    "interviewer_count = df.groupBy(\"occupation_id\").count().orderBy(f.desc(\"count\"))\n",
    "interviewer_count.show()"
   ]
  },
  {
   "cell_type": "code",
   "execution_count": 4,
   "id": "4188d7ca-2924-44bf-92f5-a38fa2456eaf",
   "metadata": {},
   "outputs": [],
   "source": [
    "meta = {\n",
    "    \"1100\": \"engineer\",\n",
    "    \"2030\": \"developer\",\n",
    "    \"3801\": \"painder\",\n",
    "    \"3021\": \"chemistry teacher\",\n",
    "    \"9382\": \"priest\"\n",
    "}"
   ]
  },
  {
   "cell_type": "code",
   "execution_count": 10,
   "id": "7bb17f04-02ae-4aa1-a92b-06ce6e660330",
   "metadata": {},
   "outputs": [
    {
     "name": "stdout",
     "output_type": "stream",
     "text": [
      "+-------------+-----+-----------------+\n",
      "|occupation_id|count|  occupation_name|\n",
      "+-------------+-----+-----------------+\n",
      "|         1100|  217|         engineer|\n",
      "|         3801|  203|          painder|\n",
      "|         2030|  200|        developer|\n",
      "|         3021|  191|chemistry teacher|\n",
      "|         9382|  189|           priest|\n",
      "+-------------+-----+-----------------+\n",
      "\n",
      "CPU times: user 6.18 ms, sys: 5.18 ms, total: 11.4 ms\n",
      "Wall time: 221 ms\n"
     ]
    }
   ],
   "source": [
    "%%time\n",
    "occupation_dict = spark.sparkContext.broadcast(meta)\n",
    "\n",
    "def get_occupation_name(occupation_id: str) -> str:\n",
    "    return occupation_dict.value[occupation_id]\n",
    "\n",
    "occupation_lookup_udf = f.udf(get_occupation_name)\n",
    "occupation_with_name = interviewer_count.withColumn(\"occupation_name\", occupation_lookup_udf(f.col(\"occupation_id\")))\n",
    "occupation_with_name.show()"
   ]
  },
  {
   "cell_type": "code",
   "execution_count": null,
   "id": "2cab9fbb-3880-4b39-b376-6b2b2f68cc70",
   "metadata": {},
   "outputs": [],
   "source": []
  }
 ],
 "metadata": {
  "kernelspec": {
   "display_name": "Python 3 (ipykernel)",
   "language": "python",
   "name": "python3"
  },
  "language_info": {
   "codemirror_mode": {
    "name": "ipython",
    "version": 3
   },
   "file_extension": ".py",
   "mimetype": "text/x-python",
   "name": "python",
   "nbconvert_exporter": "python",
   "pygments_lexer": "ipython3",
   "version": "3.11.6"
  }
 },
 "nbformat": 4,
 "nbformat_minor": 5
}
