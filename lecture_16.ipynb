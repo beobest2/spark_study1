{
 "cells": [
  {
   "cell_type": "code",
   "execution_count": 1,
   "id": "2efe1c9f-bfc9-4838-819a-e5ce5f9e2360",
   "metadata": {},
   "outputs": [],
   "source": [
    "from pyspark.sql import (\n",
    "    functions as f,\n",
    "    SparkSession,\n",
    "    types as t\n",
    ")\n",
    "\n",
    "spark = SparkSession.builder.appName(\"logical_physical_play\").getOrCreate()"
   ]
  },
  {
   "cell_type": "code",
   "execution_count": 2,
   "id": "46ef194b-dd8c-4389-b312-45d9239caf83",
   "metadata": {},
   "outputs": [
    {
     "name": "stdout",
     "output_type": "stream",
     "text": [
      "== Physical Plan ==\n",
      "Scan text  (1)\n",
      "\n",
      "\n",
      "(1) Scan text \n",
      "Output [1]: [value#0]\n",
      "Batched: false\n",
      "Location: InMemoryFileIndex [file:/home/jovyan/work/lorem_ipsum.txt]\n",
      "ReadSchema: struct<value:string>\n",
      "\n",
      "\n"
     ]
    }
   ],
   "source": [
    "file_path = \"file:///home/jovyan/work/lorem_ipsum.txt\"\n",
    "df = spark.read.text(file_path)\n",
    "df.explain(mode=\"formatted\")"
   ]
  },
  {
   "cell_type": "code",
   "execution_count": 3,
   "id": "eda44c6d-03ff-44fe-b4a7-e6e76dbeebd7",
   "metadata": {},
   "outputs": [
    {
     "name": "stdout",
     "output_type": "stream",
     "text": [
      "== Parsed Logical Plan ==\n",
      "'Aggregate ['word], ['word, count(1) AS count#8L]\n",
      "+- Project [word#3]\n",
      "   +- Generate explode(split(value#0,  , -1)), false, [word#3]\n",
      "      +- Relation [value#0] text\n",
      "\n",
      "== Analyzed Logical Plan ==\n",
      "word: string, count: bigint\n",
      "Aggregate [word#3], [word#3, count(1) AS count#8L]\n",
      "+- Project [word#3]\n",
      "   +- Generate explode(split(value#0,  , -1)), false, [word#3]\n",
      "      +- Relation [value#0] text\n",
      "\n",
      "== Optimized Logical Plan ==\n",
      "Aggregate [word#3], [word#3, count(1) AS count#8L]\n",
      "+- Generate explode(split(value#0,  , -1)), [0], false, [word#3]\n",
      "   +- Relation [value#0] text\n",
      "\n",
      "== Physical Plan ==\n",
      "AdaptiveSparkPlan isFinalPlan=false\n",
      "+- HashAggregate(keys=[word#3], functions=[count(1)], output=[word#3, count#8L])\n",
      "   +- Exchange hashpartitioning(word#3, 200), ENSURE_REQUIREMENTS, [plan_id=18]\n",
      "      +- HashAggregate(keys=[word#3], functions=[partial_count(1)], output=[word#3, count#12L])\n",
      "         +- Generate explode(split(value#0,  , -1)), false, [word#3]\n",
      "            +- FileScan text [value#0] Batched: false, DataFilters: [], Format: Text, Location: InMemoryFileIndex(1 paths)[file:/home/jovyan/work/lorem_ipsum.txt], PartitionFilters: [], PushedFilters: [], ReadSchema: struct<value:string>\n",
      "\n"
     ]
    }
   ],
   "source": [
    "words = df.select(\n",
    "    f.explode(\n",
    "        f.split(df.value, ' ')).alias(\"word\"))\n",
    "word_counts = words.groupBy(\"word\").count()\n",
    "word_counts.explain(extended=True)"
   ]
  },
  {
   "cell_type": "code",
   "execution_count": 4,
   "id": "f3c9b28e-4f57-4202-b690-b40b08dedaa0",
   "metadata": {},
   "outputs": [
    {
     "name": "stdout",
     "output_type": "stream",
     "text": [
      "== Physical Plan ==\n",
      "AdaptiveSparkPlan (6)\n",
      "+- HashAggregate (5)\n",
      "   +- Exchange (4)\n",
      "      +- HashAggregate (3)\n",
      "         +- Generate (2)\n",
      "            +- Scan text  (1)\n",
      "\n",
      "\n",
      "(1) Scan text \n",
      "Output [1]: [value#0]\n",
      "Batched: false\n",
      "Location: InMemoryFileIndex [file:/home/jovyan/work/lorem_ipsum.txt]\n",
      "ReadSchema: struct<value:string>\n",
      "\n",
      "(2) Generate\n",
      "Input [1]: [value#0]\n",
      "Arguments: explode(split(value#0,  , -1)), false, [word#3]\n",
      "\n",
      "(3) HashAggregate\n",
      "Input [1]: [word#3]\n",
      "Keys [1]: [word#3]\n",
      "Functions [1]: [partial_count(1)]\n",
      "Aggregate Attributes [1]: [count#11L]\n",
      "Results [2]: [word#3, count#12L]\n",
      "\n",
      "(4) Exchange\n",
      "Input [2]: [word#3, count#12L]\n",
      "Arguments: hashpartitioning(word#3, 200), ENSURE_REQUIREMENTS, [plan_id=18]\n",
      "\n",
      "(5) HashAggregate\n",
      "Input [2]: [word#3, count#12L]\n",
      "Keys [1]: [word#3]\n",
      "Functions [1]: [count(1)]\n",
      "Aggregate Attributes [1]: [count(1)#7L]\n",
      "Results [2]: [word#3, count(1)#7L AS count#8L]\n",
      "\n",
      "(6) AdaptiveSparkPlan\n",
      "Output [2]: [word#3, count#8L]\n",
      "Arguments: isFinalPlan=false\n",
      "\n",
      "\n"
     ]
    }
   ],
   "source": [
    "word_counts.explain(mode=\"formatted\")"
   ]
  },
  {
   "cell_type": "code",
   "execution_count": null,
   "id": "45abe62a-fe51-414a-8014-41bc52021d97",
   "metadata": {},
   "outputs": [],
   "source": []
  }
 ],
 "metadata": {
  "kernelspec": {
   "display_name": "Python 3 (ipykernel)",
   "language": "python",
   "name": "python3"
  },
  "language_info": {
   "codemirror_mode": {
    "name": "ipython",
    "version": 3
   },
   "file_extension": ".py",
   "mimetype": "text/x-python",
   "name": "python",
   "nbconvert_exporter": "python",
   "pygments_lexer": "ipython3",
   "version": "3.11.6"
  }
 },
 "nbformat": 4,
 "nbformat_minor": 5
}
