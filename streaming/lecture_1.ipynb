{
 "cells": [
  {
   "cell_type": "code",
   "execution_count": 1,
   "id": "abd72159-7149-4113-b08f-68b1ed433024",
   "metadata": {},
   "outputs": [],
   "source": [
    "\"\"\"\n",
    "docker run -it --rm -p 8888:8888 -v \"$(pwd)\":/home/jovyan/work \\\n",
    "  --user root \\\n",
    "  -e NB_GID=100 \\\n",
    "  -e GRANT_SUDO=yes jupyter/pyspark-notebook\n",
    "\n",
    "docker exec -it {container_id} /bin/bash\n",
    "---\n",
    "apt update\n",
    "apt-get install -y netcat\n",
    "nc -lk 9999\n",
    "\"\"\"\n",
    "\n",
    "\n",
    "from pyspark.sql import SparkSession\n",
    "from pyspark.sql.functions import explode, split\n",
    "\n",
    "spark = SparkSession \\\n",
    "    .builder \\\n",
    "    .master(\"local[3]\") \\\n",
    "    .config(\"spark.sql.shuffle.partitions\", 3) \\\n",
    "    .appName(\"StructuredNetworkWordCount\") \\\n",
    "    .getOrCreate()\n"
   ]
  },
  {
   "cell_type": "code",
   "execution_count": 2,
   "id": "509a905c-633c-4828-b80b-9cf167a3f87f",
   "metadata": {},
   "outputs": [],
   "source": [
    "lines = spark \\\n",
    "    .readStream \\\n",
    "    .format(\"socket\") \\\n",
    "    .option(\"host\", \"localhost\") \\\n",
    "    .option(\"port\", 9999) \\\n",
    "    .load()"
   ]
  },
  {
   "cell_type": "code",
   "execution_count": 3,
   "id": "bb009911-edb6-4c5c-83cb-aaf828103d73",
   "metadata": {},
   "outputs": [],
   "source": [
    "words = lines.select(\n",
    "    explode(\n",
    "        split(lines.value, \" \")\n",
    "    ).alias(\"word\")\n",
    ")"
   ]
  },
  {
   "cell_type": "code",
   "execution_count": 4,
   "id": "e3c84ec4-ec2e-4629-b65d-020fcf9f8611",
   "metadata": {},
   "outputs": [],
   "source": [
    "words_counts = words.groupBy(\"word\").count()"
   ]
  },
  {
   "cell_type": "code",
   "execution_count": null,
   "id": "a39e5b2f-77f4-4fa3-a7b4-b9cdcf8ca3f7",
   "metadata": {},
   "outputs": [],
   "source": [
    "query = words_counts \\\n",
    "        .writeStream \\\n",
    "        .outputMode(\"complete\") \\\n",
    "        .format(\"console\") \\\n",
    "        .start()\n",
    "query.awaitTermination()"
   ]
  },
  {
   "cell_type": "code",
   "execution_count": 8,
   "id": "72de5eb2-d982-4443-be3c-34b927c1221c",
   "metadata": {},
   "outputs": [],
   "source": [
    "# Output Mode\n",
    "# 1. Append : Only the new records that have been added to the result stream\n",
    "# 2. Update : Used when the output needs to include both new records and the updated values of existing records in the result stream\n",
    "# 3. Complete : Provides the complete result for each batch, including all records"
   ]
  }
 ],
 "metadata": {
  "kernelspec": {
   "display_name": "Python 3 (ipykernel)",
   "language": "python",
   "name": "python3"
  },
  "language_info": {
   "codemirror_mode": {
    "name": "ipython",
    "version": 3
   },
   "file_extension": ".py",
   "mimetype": "text/x-python",
   "name": "python",
   "nbconvert_exporter": "python",
   "pygments_lexer": "ipython3",
   "version": "3.11.6"
  }
 },
 "nbformat": 4,
 "nbformat_minor": 5
}
