{
 "cells": [
  {
   "cell_type": "code",
   "execution_count": 1,
   "id": "37c8bc80-cd6e-466d-94b4-b60e18189538",
   "metadata": {},
   "outputs": [],
   "source": [
    "from pyspark.sql import SparkSession\n",
    "from pyspark.sql.functions import explode, split\n",
    "\n",
    "spark = SparkSession \\\n",
    "    .builder \\\n",
    "    .master(\"local[3]\") \\\n",
    "    .appName(\"StructuredStreamingSum\") \\\n",
    "    .config(\"spark.sql.shuffle.partitions\", 3) \\\n",
    "    .config(\"spark.streaming.stopGracefullyOnShutdown\", \"true\") \\\n",
    "    .config(\"spark.sql.streaming.schemaInference\", \"true\") \\\n",
    "    .config(\"maxFilesPerTrigger\", 1) \\\n",
    "    .getOrCreate()\n"
   ]
  },
  {
   "cell_type": "code",
   "execution_count": 4,
   "id": "18b09929-6966-4ee4-ba05-ec8c9a88ca5d",
   "metadata": {},
   "outputs": [],
   "source": [
    "# brew install lucapette/tap/fakedata\n",
    "# fakedata --format=ndjson --limit 10000 city domain event=event.action > streaming_sample/sample.json\n",
    "\n",
    "\n",
    "df = spark \\\n",
    "    .readStream \\\n",
    "    .format(\"json\") \\\n",
    "    .option(\"path\", \"test_input\") \\\n",
    "    .load()\n",
    "\n",
    "# df.printSchema()"
   ]
  },
  {
   "cell_type": "code",
   "execution_count": 5,
   "id": "1a229832-f718-413e-b18e-7c5ba3beebde",
   "metadata": {},
   "outputs": [],
   "source": [
    "shorten_df = df.select(\"city\", \"event\")"
   ]
  },
  {
   "cell_type": "code",
   "execution_count": null,
   "id": "e91c79d7-8a6e-4d1b-9aef-b41d316335e0",
   "metadata": {},
   "outputs": [],
   "source": [
    "query = shorten_df \\\n",
    "        .writeStream \\\n",
    "        .format(\"console\") \\\n",
    "        .option(\"checkpointLocation\", \"checkpoint\") \\\n",
    "        .outputMode(\"append\") \\\n",
    "        .trigger(processingTime='5 seconds') \\\n",
    "        .start()\n",
    "\n",
    "query.awaitTermination()"
   ]
  },
  {
   "cell_type": "code",
   "execution_count": null,
   "id": "18afb0a9-4606-49fd-ac92-20171e47f2d9",
   "metadata": {},
   "outputs": [],
   "source": []
  }
 ],
 "metadata": {
  "kernelspec": {
   "display_name": "Python 3 (ipykernel)",
   "language": "python",
   "name": "python3"
  },
  "language_info": {
   "codemirror_mode": {
    "name": "ipython",
    "version": 3
   },
   "file_extension": ".py",
   "mimetype": "text/x-python",
   "name": "python",
   "nbconvert_exporter": "python",
   "pygments_lexer": "ipython3",
   "version": "3.11.6"
  }
 },
 "nbformat": 4,
 "nbformat_minor": 5
}
