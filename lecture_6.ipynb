{
 "cells": [
  {
   "cell_type": "code",
   "execution_count": 2,
   "id": "ac0a5aee-850a-414a-b371-f38f32ebc04c",
   "metadata": {},
   "outputs": [],
   "source": [
    "import pyspark\n",
    "sc = pyspark.SparkContext.getOrCreate()"
   ]
  },
  {
   "cell_type": "code",
   "execution_count": 3,
   "id": "86b306c9-1a06-4cfc-8a0a-8bd0c91b45c1",
   "metadata": {},
   "outputs": [
    {
     "data": {
      "text/plain": [
       "[['joe', 'sarah', 'tom'], ['hyundai']]"
      ]
     },
     "execution_count": 3,
     "metadata": {},
     "output_type": "execute_result"
    }
   ],
   "source": [
    "# map vs flatMap\n",
    "# map 1 => 1\n",
    "# flatMap 1 => Many\n",
    "\n",
    "rdd = sc.parallelize([(\"name\", \"joe,sarah,tom\"), (\"car\", \"hyundai\")])\n",
    "result = rdd.map(lambda x: x[1].split(\",\"))\n",
    "result.collect()"
   ]
  },
  {
   "cell_type": "code",
   "execution_count": 4,
   "id": "8b067e4c-bb6c-4394-903a-4af34c73fc17",
   "metadata": {},
   "outputs": [
    {
     "data": {
      "text/plain": [
       "['joe', 'sarah', 'tom', 'hyundai']"
      ]
     },
     "execution_count": 4,
     "metadata": {},
     "output_type": "execute_result"
    }
   ],
   "source": [
    "result = rdd.flatMap(lambda x: x[1].split(\",\"))\n",
    "result.collect()"
   ]
  },
  {
   "cell_type": "code",
   "execution_count": 7,
   "id": "36ef6c76-1978-4dd2-b84d-31aa6a2b6d08",
   "metadata": {},
   "outputs": [
    {
     "data": {
      "text/plain": [
       "['Lorem',\n",
       " 'Ipsum',\n",
       " 'is',\n",
       " 'simply',\n",
       " 'dummy',\n",
       " 'text',\n",
       " 'of',\n",
       " 'the',\n",
       " 'printing',\n",
       " 'and',\n",
       " 'typesetting',\n",
       " 'industry.',\n",
       " 'Lorem',\n",
       " 'Ipsum',\n",
       " 'has',\n",
       " 'been',\n",
       " 'the',\n",
       " \"industry's\",\n",
       " 'standard',\n",
       " 'dummy',\n",
       " 'text',\n",
       " 'ever',\n",
       " 'since',\n",
       " 'the',\n",
       " '1500s,',\n",
       " 'when',\n",
       " 'an',\n",
       " 'unknown',\n",
       " 'printer',\n",
       " 'took',\n",
       " 'a',\n",
       " 'galley',\n",
       " 'of',\n",
       " 'type',\n",
       " 'and',\n",
       " 'scrambled',\n",
       " 'it',\n",
       " 'to',\n",
       " 'make',\n",
       " 'a',\n",
       " 'type',\n",
       " 'specimen',\n",
       " 'book.',\n",
       " 'It',\n",
       " 'has',\n",
       " 'survived',\n",
       " 'not',\n",
       " 'only',\n",
       " 'five',\n",
       " 'centuries,',\n",
       " 'but',\n",
       " 'also',\n",
       " 'the',\n",
       " 'leap',\n",
       " 'into',\n",
       " 'electronic',\n",
       " 'typesetting,',\n",
       " 'remaining',\n",
       " 'essentially',\n",
       " 'unchanged.',\n",
       " 'It',\n",
       " 'was',\n",
       " 'popularised',\n",
       " 'in',\n",
       " 'the',\n",
       " '1960s',\n",
       " 'with',\n",
       " 'the',\n",
       " 'release',\n",
       " 'of',\n",
       " 'Letraset',\n",
       " 'sheets',\n",
       " 'containing',\n",
       " 'Lorem',\n",
       " 'Ipsum',\n",
       " 'passages,',\n",
       " 'and',\n",
       " 'more',\n",
       " 'recently',\n",
       " 'with',\n",
       " 'desktop',\n",
       " 'publishing',\n",
       " 'software',\n",
       " 'like',\n",
       " 'Aldus',\n",
       " 'PageMaker',\n",
       " 'including',\n",
       " 'versions',\n",
       " 'of',\n",
       " 'Lorem',\n",
       " 'Ipsum.']"
      ]
     },
     "execution_count": 7,
     "metadata": {},
     "output_type": "execute_result"
    }
   ],
   "source": [
    "test_file = \"file:///home/jovyan/work/lorem_ipsum.txt\"\n",
    "lines = sc.textFile(test_file)\n",
    "words = lines.flatMap(lambda x: x.split())\n",
    "words.collect()"
   ]
  },
  {
   "cell_type": "code",
   "execution_count": 10,
   "id": "138c7f52-e122-406d-b286-2e53d5d89554",
   "metadata": {},
   "outputs": [
    {
     "data": {
      "text/plain": [
       "[('Lorem', 4),\n",
       " ('dummy', 2),\n",
       " ('text', 2),\n",
       " ('of', 4),\n",
       " ('and', 3),\n",
       " (\"industry's\", 1),\n",
       " ('standard', 1),\n",
       " ('ever', 1),\n",
       " ('1500s,', 1),\n",
       " ('an', 1),\n",
       " ('unknown', 1),\n",
       " ('printer', 1),\n",
       " ('took', 1),\n",
       " ('galley', 1),\n",
       " ('type', 2),\n",
       " ('it', 1),\n",
       " ('to', 1),\n",
       " ('book.', 1),\n",
       " ('It', 2),\n",
       " ('survived', 1),\n",
       " ('five', 1),\n",
       " ('centuries,', 1),\n",
       " ('but', 1),\n",
       " ('electronic', 1),\n",
       " ('typesetting,', 1),\n",
       " ('remaining', 1),\n",
       " ('unchanged.', 1),\n",
       " ('popularised', 1),\n",
       " ('with', 2),\n",
       " ('release', 1),\n",
       " ('Letraset', 1),\n",
       " ('passages,', 1),\n",
       " ('more', 1),\n",
       " ('like', 1),\n",
       " ('Aldus', 1),\n",
       " ('PageMaker', 1),\n",
       " ('Ipsum.', 1),\n",
       " ('Ipsum', 3),\n",
       " ('is', 1),\n",
       " ('simply', 1),\n",
       " ('the', 6),\n",
       " ('printing', 1),\n",
       " ('typesetting', 1),\n",
       " ('industry.', 1),\n",
       " ('has', 2),\n",
       " ('been', 1),\n",
       " ('since', 1),\n",
       " ('when', 1),\n",
       " ('a', 2),\n",
       " ('scrambled', 1),\n",
       " ('make', 1),\n",
       " ('specimen', 1),\n",
       " ('not', 1),\n",
       " ('only', 1),\n",
       " ('also', 1),\n",
       " ('leap', 1),\n",
       " ('into', 1),\n",
       " ('essentially', 1),\n",
       " ('was', 1),\n",
       " ('in', 1),\n",
       " ('1960s', 1),\n",
       " ('sheets', 1),\n",
       " ('containing', 1),\n",
       " ('recently', 1),\n",
       " ('desktop', 1),\n",
       " ('publishing', 1),\n",
       " ('software', 1),\n",
       " ('including', 1),\n",
       " ('versions', 1)]"
      ]
     },
     "execution_count": 10,
     "metadata": {},
     "output_type": "execute_result"
    }
   ],
   "source": [
    "# sort by key\n",
    "word_count = words.map(lambda x: (x, 1)).reduceByKey(lambda x, y: x + y)\n",
    "word_count.collect()"
   ]
  },
  {
   "cell_type": "code",
   "execution_count": 14,
   "id": "c55e9f6f-2381-4eae-b9fb-5efb7770e764",
   "metadata": {},
   "outputs": [
    {
     "data": {
      "text/plain": [
       "[(6, 'the'),\n",
       " (4, 'Lorem'),\n",
       " (4, 'of'),\n",
       " (3, 'and'),\n",
       " (3, 'Ipsum'),\n",
       " (2, 'dummy'),\n",
       " (2, 'text'),\n",
       " (2, 'type'),\n",
       " (2, 'It'),\n",
       " (2, 'with'),\n",
       " (2, 'has'),\n",
       " (2, 'a'),\n",
       " (1, \"industry's\"),\n",
       " (1, 'standard'),\n",
       " (1, 'ever'),\n",
       " (1, '1500s,'),\n",
       " (1, 'an'),\n",
       " (1, 'unknown'),\n",
       " (1, 'printer'),\n",
       " (1, 'took'),\n",
       " (1, 'galley'),\n",
       " (1, 'it'),\n",
       " (1, 'to'),\n",
       " (1, 'book.'),\n",
       " (1, 'survived'),\n",
       " (1, 'five'),\n",
       " (1, 'centuries,'),\n",
       " (1, 'but'),\n",
       " (1, 'electronic'),\n",
       " (1, 'typesetting,'),\n",
       " (1, 'remaining'),\n",
       " (1, 'unchanged.'),\n",
       " (1, 'popularised'),\n",
       " (1, 'release'),\n",
       " (1, 'Letraset'),\n",
       " (1, 'passages,'),\n",
       " (1, 'more'),\n",
       " (1, 'like'),\n",
       " (1, 'Aldus'),\n",
       " (1, 'PageMaker'),\n",
       " (1, 'Ipsum.'),\n",
       " (1, 'is'),\n",
       " (1, 'simply'),\n",
       " (1, 'printing'),\n",
       " (1, 'typesetting'),\n",
       " (1, 'industry.'),\n",
       " (1, 'been'),\n",
       " (1, 'since'),\n",
       " (1, 'when'),\n",
       " (1, 'scrambled'),\n",
       " (1, 'make'),\n",
       " (1, 'specimen'),\n",
       " (1, 'not'),\n",
       " (1, 'only'),\n",
       " (1, 'also'),\n",
       " (1, 'leap'),\n",
       " (1, 'into'),\n",
       " (1, 'essentially'),\n",
       " (1, 'was'),\n",
       " (1, 'in'),\n",
       " (1, '1960s'),\n",
       " (1, 'sheets'),\n",
       " (1, 'containing'),\n",
       " (1, 'recently'),\n",
       " (1, 'desktop'),\n",
       " (1, 'publishing'),\n",
       " (1, 'software'),\n",
       " (1, 'including'),\n",
       " (1, 'versions')]"
      ]
     },
     "execution_count": 14,
     "metadata": {},
     "output_type": "execute_result"
    }
   ],
   "source": [
    "sorted_word_count = word_count.map(lambda x: (x[1], x[0])).sortByKey(False)\n",
    "sorted_word_count.collect()"
   ]
  },
  {
   "cell_type": "code",
   "execution_count": null,
   "id": "2d9f6521-202a-481d-af58-30830711ec59",
   "metadata": {},
   "outputs": [],
   "source": []
  }
 ],
 "metadata": {
  "kernelspec": {
   "display_name": "Python 3 (ipykernel)",
   "language": "python",
   "name": "python3"
  },
  "language_info": {
   "codemirror_mode": {
    "name": "ipython",
    "version": 3
   },
   "file_extension": ".py",
   "mimetype": "text/x-python",
   "name": "python",
   "nbconvert_exporter": "python",
   "pygments_lexer": "ipython3",
   "version": "3.11.6"
  }
 },
 "nbformat": 4,
 "nbformat_minor": 5
}
