{
 "cells": [
  {
   "cell_type": "code",
   "execution_count": 1,
   "id": "d35b3155-7df8-44c9-b540-e7dcd26f9ae6",
   "metadata": {},
   "outputs": [],
   "source": [
    "from pyspark.sql import (\n",
    "    functions as f,\n",
    "    SparkSession,\n",
    "    types as t\n",
    ")\n",
    "\n",
    "spark = SparkSession.builder.appName(\"df_missing_data\").getOrCreate()"
   ]
  },
  {
   "cell_type": "code",
   "execution_count": 4,
   "id": "1ddfd08f-edab-4a94-9c97-fcab840b45a4",
   "metadata": {},
   "outputs": [
    {
     "name": "stdout",
     "output_type": "stream",
     "text": [
      "+----+----------+------+\n",
      "|  id|occupation|salary|\n",
      "+----+----------+------+\n",
      "|1000|  engineer|100000|\n",
      "|2000|      NULL|  NULL|\n",
      "|3000|      NULL| 50000|\n",
      "|4000|   teacher| 80000|\n",
      "|5000|    banker|120000|\n",
      "+----+----------+------+\n",
      "\n"
     ]
    }
   ],
   "source": [
    "df = spark.read.csv(\"file:///home/jovyan/work/null_data.csv\", header=True, inferSchema=True)\n",
    "df.show()"
   ]
  },
  {
   "cell_type": "code",
   "execution_count": 5,
   "id": "819ab439-fce8-41b2-913f-e69818a42a92",
   "metadata": {},
   "outputs": [
    {
     "name": "stdout",
     "output_type": "stream",
     "text": [
      "+----+----------+------+\n",
      "|  id|occupation|salary|\n",
      "+----+----------+------+\n",
      "|1000|  engineer|100000|\n",
      "|4000|   teacher| 80000|\n",
      "|5000|    banker|120000|\n",
      "+----+----------+------+\n",
      "\n",
      "+----+----------+------+\n",
      "|  id|occupation|salary|\n",
      "+----+----------+------+\n",
      "|1000|  engineer|100000|\n",
      "|3000|      NULL| 50000|\n",
      "|4000|   teacher| 80000|\n",
      "|5000|    banker|120000|\n",
      "+----+----------+------+\n",
      "\n",
      "+----+----------+------+\n",
      "|  id|occupation|salary|\n",
      "+----+----------+------+\n",
      "|1000|  engineer|100000|\n",
      "|3000|      NULL| 50000|\n",
      "|4000|   teacher| 80000|\n",
      "|5000|    banker|120000|\n",
      "+----+----------+------+\n",
      "\n"
     ]
    }
   ],
   "source": [
    "df.na.drop(how=\"any\").show()\n",
    "df.na.drop(thresh=2).show()\n",
    "df.na.drop(subset=[\"salary\"]).show()"
   ]
  },
  {
   "cell_type": "code",
   "execution_count": 6,
   "id": "3f1a7c2b-8212-49df-bdb0-0988cd49ec20",
   "metadata": {},
   "outputs": [
    {
     "name": "stdout",
     "output_type": "stream",
     "text": [
      "root\n",
      " |-- id: integer (nullable = true)\n",
      " |-- occupation: string (nullable = true)\n",
      " |-- salary: integer (nullable = true)\n",
      "\n"
     ]
    }
   ],
   "source": [
    "df.printSchema()"
   ]
  },
  {
   "cell_type": "code",
   "execution_count": 8,
   "id": "4d7f9b87-8b97-4744-874d-3971c07e1b54",
   "metadata": {},
   "outputs": [
    {
     "name": "stdout",
     "output_type": "stream",
     "text": [
      "+----+----------+------+\n",
      "|  id|occupation|salary|\n",
      "+----+----------+------+\n",
      "|1000|  engineer|100000|\n",
      "|2000|      fill|  NULL|\n",
      "|3000|      fill| 50000|\n",
      "|4000|   teacher| 80000|\n",
      "|5000|    banker|120000|\n",
      "+----+----------+------+\n",
      "\n"
     ]
    }
   ],
   "source": [
    "df.na.fill(\"fill\").show()"
   ]
  },
  {
   "cell_type": "code",
   "execution_count": 9,
   "id": "218d373e-d955-4f78-a259-f8a6960b859d",
   "metadata": {},
   "outputs": [
    {
     "name": "stdout",
     "output_type": "stream",
     "text": [
      "+----+----------+------+\n",
      "|  id|occupation|salary|\n",
      "+----+----------+------+\n",
      "|1000|  engineer|100000|\n",
      "|2000|      NULL|     0|\n",
      "|3000|      NULL| 50000|\n",
      "|4000|   teacher| 80000|\n",
      "|5000|    banker|120000|\n",
      "+----+----------+------+\n",
      "\n"
     ]
    }
   ],
   "source": [
    "df.na.fill(0).show()"
   ]
  },
  {
   "cell_type": "code",
   "execution_count": 10,
   "id": "a8faa23b-f379-4ee3-a981-2a5f90269c41",
   "metadata": {},
   "outputs": [
    {
     "name": "stdout",
     "output_type": "stream",
     "text": [
      "+----+----------+------+\n",
      "|  id|occupation|salary|\n",
      "+----+----------+------+\n",
      "|1000|  engineer|100000|\n",
      "|2000|        NA|  NULL|\n",
      "|3000|        NA| 50000|\n",
      "|4000|   teacher| 80000|\n",
      "|5000|    banker|120000|\n",
      "+----+----------+------+\n",
      "\n"
     ]
    }
   ],
   "source": [
    "df.na.fill(\"NA\", subset=[\"occupation\"]).show()"
   ]
  },
  {
   "cell_type": "code",
   "execution_count": 13,
   "id": "63569330-a0b6-4f96-95cb-a11f59c4540d",
   "metadata": {},
   "outputs": [
    {
     "name": "stdout",
     "output_type": "stream",
     "text": [
      "87500.0\n",
      "+----+----------+------+\n",
      "|  id|occupation|salary|\n",
      "+----+----------+------+\n",
      "|1000|  engineer|100000|\n",
      "|2000|      NULL| 87500|\n",
      "|3000|      NULL| 50000|\n",
      "|4000|   teacher| 80000|\n",
      "|5000|    banker|120000|\n",
      "+----+----------+------+\n",
      "\n"
     ]
    }
   ],
   "source": [
    "mean_value = df.select(f.mean(df[\"salary\"])).collect()\n",
    "print(mean_value[0][0])\n",
    "\n",
    "df.na.fill(mean_value[0][0], subset=[\"salary\"]).show()"
   ]
  },
  {
   "cell_type": "code",
   "execution_count": 25,
   "id": "bc2f2944-b747-4a3c-9455-98841d031599",
   "metadata": {},
   "outputs": [
    {
     "name": "stdout",
     "output_type": "stream",
     "text": [
      "+----------+------+\n",
      "|      date|number|\n",
      "+----------+------+\n",
      "|2022-01-27|  2723|\n",
      "|2021-12-29|  1460|\n",
      "|2022-01-22|  3411|\n",
      "|2022-01-06|  1527|\n",
      "|2022-04-21|  3978|\n",
      "|2022-10-23|  3443|\n",
      "|2021-12-23|  1641|\n",
      "|2022-05-31|  1633|\n",
      "|2021-12-29|  1072|\n",
      "|2021-12-30|  2936|\n",
      "|2022-05-04|  2494|\n",
      "|2022-06-22|  2019|\n",
      "|2022-04-23|  3804|\n",
      "|2022-08-04|  1619|\n",
      "|2022-01-26|  1306|\n",
      "|2022-09-23|  3918|\n",
      "|2022-05-27|  3209|\n",
      "|2022-09-20|  2333|\n",
      "|2022-07-05|  1861|\n",
      "|2022-07-18|  3404|\n",
      "+----------+------+\n",
      "only showing top 20 rows\n",
      "\n",
      "+----------+\n",
      "|year(date)|\n",
      "+----------+\n",
      "|      2022|\n",
      "|      2021|\n",
      "|      2022|\n",
      "|      2022|\n",
      "|      2022|\n",
      "|      2022|\n",
      "|      2021|\n",
      "|      2022|\n",
      "|      2021|\n",
      "|      2021|\n",
      "|      2022|\n",
      "|      2022|\n",
      "|      2022|\n",
      "|      2022|\n",
      "|      2022|\n",
      "|      2022|\n",
      "|      2022|\n",
      "|      2022|\n",
      "|      2022|\n",
      "|      2022|\n",
      "+----------+\n",
      "only showing top 20 rows\n",
      "\n"
     ]
    }
   ],
   "source": [
    "# data parsing\n",
    "df = spark.read.csv(\n",
    "    \"file:///home/jovyan/work/date_parsing.csv\", header=True, inferSchema=True)\n",
    "df.show()\n",
    "df.select(f.year('date')).show()"
   ]
  },
  {
   "cell_type": "code",
   "execution_count": 17,
   "id": "c91e7c2a-e85d-43dd-a200-4a4e2354bf76",
   "metadata": {},
   "outputs": [
    {
     "name": "stdout",
     "output_type": "stream",
     "text": [
      "+-----------+\n",
      "|month(date)|\n",
      "+-----------+\n",
      "|          1|\n",
      "|         12|\n",
      "|          1|\n",
      "|          1|\n",
      "|          4|\n",
      "|         10|\n",
      "|         12|\n",
      "|          5|\n",
      "|         12|\n",
      "|         12|\n",
      "|          5|\n",
      "|          6|\n",
      "|          4|\n",
      "|          8|\n",
      "|          1|\n",
      "|          9|\n",
      "|          5|\n",
      "|          9|\n",
      "|          7|\n",
      "|          7|\n",
      "+-----------+\n",
      "only showing top 20 rows\n",
      "\n"
     ]
    }
   ],
   "source": [
    "df.select(f.month(\"date\")).show()"
   ]
  },
  {
   "cell_type": "code",
   "execution_count": 19,
   "id": "6deed972-7272-46d8-b82b-df7ccc7d6e53",
   "metadata": {},
   "outputs": [
    {
     "name": "stdout",
     "output_type": "stream",
     "text": [
      "+---+\n",
      "|day|\n",
      "+---+\n",
      "| 27|\n",
      "| 29|\n",
      "| 22|\n",
      "|  6|\n",
      "| 21|\n",
      "| 23|\n",
      "| 23|\n",
      "| 31|\n",
      "| 29|\n",
      "| 30|\n",
      "|  4|\n",
      "| 22|\n",
      "| 23|\n",
      "|  4|\n",
      "| 26|\n",
      "| 23|\n",
      "| 27|\n",
      "| 20|\n",
      "|  5|\n",
      "| 18|\n",
      "+---+\n",
      "only showing top 20 rows\n",
      "\n",
      "+---+\n",
      "|day|\n",
      "+---+\n",
      "| 27|\n",
      "|363|\n",
      "| 22|\n",
      "|  6|\n",
      "|111|\n",
      "|296|\n",
      "|357|\n",
      "|151|\n",
      "|363|\n",
      "|364|\n",
      "|124|\n",
      "|173|\n",
      "|113|\n",
      "|216|\n",
      "| 26|\n",
      "|266|\n",
      "|147|\n",
      "|263|\n",
      "|186|\n",
      "|199|\n",
      "+---+\n",
      "only showing top 20 rows\n",
      "\n"
     ]
    }
   ],
   "source": [
    "df.select(f.dayofmonth(\"date\").alias(\"day\")).show()\n",
    "df.select(f.dayofyear(\"date\").alias(\"day\")).show() "
   ]
  },
  {
   "cell_type": "code",
   "execution_count": 31,
   "id": "dbd05ee8-3472-40d5-9b9b-ba67ced4ea85",
   "metadata": {},
   "outputs": [
    {
     "name": "stdout",
     "output_type": "stream",
     "text": [
      "+----+------------------+\n",
      "|year|               avg|\n",
      "+----+------------------+\n",
      "|2022|2540.6652806652805|\n",
      "|2021| 2195.684210526316|\n",
      "+----+------------------+\n",
      "\n",
      "+----+--------+\n",
      "|year|     avg|\n",
      "+----+--------+\n",
      "|2022|2,540.67|\n",
      "|2021|2,195.68|\n",
      "+----+--------+\n",
      "\n"
     ]
    }
   ],
   "source": [
    "grouped_df = df.withColumn(\"year\", f.year(\"date\")).groupBy(\"year\").mean(\"number\").withColumnRenamed(\"avg(number)\", \"avg\")\n",
    "grouped_df.show()\n",
    "grouped_df.select(\"year\", f.format_number(\"avg\", 2).alias(\"avg\")).show()"
   ]
  }
 ],
 "metadata": {
  "kernelspec": {
   "display_name": "Python 3 (ipykernel)",
   "language": "python",
   "name": "python3"
  },
  "language_info": {
   "codemirror_mode": {
    "name": "ipython",
    "version": 3
   },
   "file_extension": ".py",
   "mimetype": "text/x-python",
   "name": "python",
   "nbconvert_exporter": "python",
   "pygments_lexer": "ipython3",
   "version": "3.11.6"
  }
 },
 "nbformat": 4,
 "nbformat_minor": 5
}
