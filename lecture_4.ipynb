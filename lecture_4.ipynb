{
 "cells": [
  {
   "cell_type": "code",
   "execution_count": 1,
   "id": "a37cb968-87a3-4932-8229-83c50eb26824",
   "metadata": {},
   "outputs": [],
   "source": [
    "import pyspark\n",
    "sc = pyspark.SparkContext.getOrCreate()"
   ]
  },
  {
   "cell_type": "code",
   "execution_count": 3,
   "id": "64427f6c-3dd2-43e0-842d-374fa1f777c3",
   "metadata": {},
   "outputs": [],
   "source": [
    "test_file = \"file:///home/jovyan/work/house_price.csv\""
   ]
  },
  {
   "cell_type": "code",
   "execution_count": 7,
   "id": "52e465cb-90f9-4d9e-a7c3-567898547156",
   "metadata": {},
   "outputs": [
    {
     "data": {
      "text/plain": [
       "[(10000, 3),\n",
       " (10000, 5),\n",
       " (40000, 7),\n",
       " (5000, 7),\n",
       " (4000, 2),\n",
       " (9000, 4),\n",
       " (5000, 7),\n",
       " (4000, 2),\n",
       " (8000, 9)]"
      ]
     },
     "execution_count": 7,
     "metadata": {},
     "output_type": "execute_result"
    }
   ],
   "source": [
    "def parse_line(line: str):\n",
    "    city, price, count = line.split(\",\")\n",
    "    return (int(price), int(count))\n",
    "\n",
    "lines = sc.textFile(test_file)\n",
    "price_count = lines.map(parse_line)\n",
    "price_count.collect()"
   ]
  },
  {
   "cell_type": "code",
   "execution_count": 9,
   "id": "78b8dcc3-61f7-437c-b834-bfe74f60fceb",
   "metadata": {},
   "outputs": [
    {
     "data": {
      "text/plain": [
       "[(10000, (8, 2)),\n",
       " (40000, (7, 1)),\n",
       " (5000, (14, 2)),\n",
       " (4000, (4, 2)),\n",
       " (9000, (4, 1)),\n",
       " (8000, (9, 1))]"
      ]
     },
     "execution_count": 9,
     "metadata": {},
     "output_type": "execute_result"
    }
   ],
   "source": [
    "sum_of_count = price_count.mapValues(lambda count: (count, 1)) \\\n",
    "                .reduceByKey(lambda a, b: (int(a[0]) + int(b[0]), int(a[1]) + int(b[1])))\n",
    "sum_of_count.collect()"
   ]
  },
  {
   "cell_type": "code",
   "execution_count": 13,
   "id": "e012e5af-a60e-4103-8beb-f4cc5d62d311",
   "metadata": {},
   "outputs": [
    {
     "data": {
      "text/plain": [
       "[(10000, 4.0),\n",
       " (40000, 7.0),\n",
       " (5000, 7.0),\n",
       " (4000, 2.0),\n",
       " (9000, 4.0),\n",
       " (8000, 9.0)]"
      ]
     },
     "execution_count": 13,
     "metadata": {},
     "output_type": "execute_result"
    }
   ],
   "source": [
    "avg_by_count = sum_of_count.mapValues(lambda total_count: total_count[0] / total_count[1])\n",
    "avg_by_count.collect()"
   ]
  }
 ],
 "metadata": {
  "kernelspec": {
   "display_name": "Python 3 (ipykernel)",
   "language": "python",
   "name": "python3"
  },
  "language_info": {
   "codemirror_mode": {
    "name": "ipython",
    "version": 3
   },
   "file_extension": ".py",
   "mimetype": "text/x-python",
   "name": "python",
   "nbconvert_exporter": "python",
   "pygments_lexer": "ipython3",
   "version": "3.11.6"
  }
 },
 "nbformat": 4,
 "nbformat_minor": 5
}
