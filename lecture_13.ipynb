{
 "cells": [
  {
   "cell_type": "code",
   "execution_count": 1,
   "id": "085441a0-a1b3-4490-9527-4370a821ffd3",
   "metadata": {},
   "outputs": [],
   "source": [
    "from pyspark.sql import (\n",
    "    functions as f,\n",
    "    Row,\n",
    "    SparkSession,\n",
    "    types as t\n",
    ")\n",
    "\n",
    "spark = SparkSession.builder.appName(\"df_most_popular\").getOrCreate()"
   ]
  },
  {
   "cell_type": "code",
   "execution_count": 2,
   "id": "bbe2580e-2cfd-4e11-a5b6-a28c23c03414",
   "metadata": {},
   "outputs": [
    {
     "name": "stdout",
     "output_type": "stream",
     "text": [
      "root\n",
      " |-- hero1: string (nullable = true)\n",
      " |-- hero2: string (nullable = true)\n",
      "\n",
      "+--------------------+--------------------+\n",
      "|hero1               |hero2               |\n",
      "+--------------------+--------------------+\n",
      "|LITTLE, ABNER       |PRINCESS ZANDA      |\n",
      "|LITTLE, ABNER       |BLACK PANTHER/T'CHAL|\n",
      "|BLACK PANTHER/T'CHAL|PRINCESS ZANDA      |\n",
      "|LITTLE, ABNER       |PRINCESS ZANDA      |\n",
      "|LITTLE, ABNER       |BLACK PANTHER/T'CHAL|\n",
      "|BLACK PANTHER/T'CHAL|PRINCESS ZANDA      |\n",
      "|STEELE, SIMON/WOLFGA|FORTUNE, DOMINIC    |\n",
      "|STEELE, SIMON/WOLFGA|ERWIN, CLYTEMNESTRA |\n",
      "|STEELE, SIMON/WOLFGA|IRON MAN/TONY STARK |\n",
      "|STEELE, SIMON/WOLFGA|IRON MAN IV/JAMES R.|\n",
      "|STEELE, SIMON/WOLFGA|RAVEN, SABBATH II/EL|\n",
      "|RAVEN, SABBATH II/EL|FORTUNE, DOMINIC    |\n",
      "|RAVEN, SABBATH II/EL|ERWIN, CLYTEMNESTRA |\n",
      "|RAVEN, SABBATH II/EL|IRON MAN/TONY STARK |\n",
      "|RAVEN, SABBATH II/EL|IRON MAN IV/JAMES R.|\n",
      "|IRON MAN IV/JAMES R.|FORTUNE, DOMINIC    |\n",
      "|IRON MAN IV/JAMES R.|ERWIN, CLYTEMNESTRA |\n",
      "|IRON MAN IV/JAMES R.|IRON MAN/TONY STARK |\n",
      "|IRON MAN/TONY STARK |FORTUNE, DOMINIC    |\n",
      "|IRON MAN/TONY STARK |ERWIN, CLYTEMNESTRA |\n",
      "+--------------------+--------------------+\n",
      "only showing top 20 rows\n",
      "\n"
     ]
    }
   ],
   "source": [
    "# https://www.kaggle.com/datasets/csanhueza/the-marvel-universe-social-network\n",
    "csv_file_path = \"file:///home/jovyan/work/hero-network.csv\"\n",
    "\n",
    "df = spark.read\\\n",
    "            .option(\"header\", \"true\")\\\n",
    "            .option(\"inferSchema\", \"true\").csv(csv_file_path)\n",
    "df.printSchema()\n",
    "df.show(truncate=False)"
   ]
  },
  {
   "cell_type": "code",
   "execution_count": null,
   "id": "7c248351-7200-4f43-bcd6-0cc5e277d957",
   "metadata": {},
   "outputs": [],
   "source": []
  }
 ],
 "metadata": {
  "kernelspec": {
   "display_name": "Python 3 (ipykernel)",
   "language": "python",
   "name": "python3"
  },
  "language_info": {
   "codemirror_mode": {
    "name": "ipython",
    "version": 3
   },
   "file_extension": ".py",
   "mimetype": "text/x-python",
   "name": "python",
   "nbconvert_exporter": "python",
   "pygments_lexer": "ipython3",
   "version": "3.11.6"
  }
 },
 "nbformat": 4,
 "nbformat_minor": 5
}
