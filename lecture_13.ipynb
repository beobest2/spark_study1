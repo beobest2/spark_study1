{
 "cells": [
  {
   "cell_type": "code",
   "execution_count": 1,
   "id": "085441a0-a1b3-4490-9527-4370a821ffd3",
   "metadata": {},
   "outputs": [],
   "source": [
    "from pyspark.sql import (\n",
    "    functions as f,\n",
    "    Row,\n",
    "    SparkSession,\n",
    "    types as t\n",
    ")\n",
    "\n",
    "spark = SparkSession.builder.appName(\"df_most_popular\").getOrCreate()"
   ]
  },
  {
   "cell_type": "code",
   "execution_count": 2,
   "id": "bbe2580e-2cfd-4e11-a5b6-a28c23c03414",
   "metadata": {},
   "outputs": [
    {
     "name": "stdout",
     "output_type": "stream",
     "text": [
      "root\n",
      " |-- hero1: string (nullable = true)\n",
      " |-- hero2: string (nullable = true)\n",
      "\n",
      "+--------------------+--------------------+\n",
      "|hero1               |hero2               |\n",
      "+--------------------+--------------------+\n",
      "|LITTLE, ABNER       |PRINCESS ZANDA      |\n",
      "|LITTLE, ABNER       |BLACK PANTHER/T'CHAL|\n",
      "|BLACK PANTHER/T'CHAL|PRINCESS ZANDA      |\n",
      "|LITTLE, ABNER       |PRINCESS ZANDA      |\n",
      "|LITTLE, ABNER       |BLACK PANTHER/T'CHAL|\n",
      "|BLACK PANTHER/T'CHAL|PRINCESS ZANDA      |\n",
      "|STEELE, SIMON/WOLFGA|FORTUNE, DOMINIC    |\n",
      "|STEELE, SIMON/WOLFGA|ERWIN, CLYTEMNESTRA |\n",
      "|STEELE, SIMON/WOLFGA|IRON MAN/TONY STARK |\n",
      "|STEELE, SIMON/WOLFGA|IRON MAN IV/JAMES R.|\n",
      "|STEELE, SIMON/WOLFGA|RAVEN, SABBATH II/EL|\n",
      "|RAVEN, SABBATH II/EL|FORTUNE, DOMINIC    |\n",
      "|RAVEN, SABBATH II/EL|ERWIN, CLYTEMNESTRA |\n",
      "|RAVEN, SABBATH II/EL|IRON MAN/TONY STARK |\n",
      "|RAVEN, SABBATH II/EL|IRON MAN IV/JAMES R.|\n",
      "|IRON MAN IV/JAMES R.|FORTUNE, DOMINIC    |\n",
      "|IRON MAN IV/JAMES R.|ERWIN, CLYTEMNESTRA |\n",
      "|IRON MAN IV/JAMES R.|IRON MAN/TONY STARK |\n",
      "|IRON MAN/TONY STARK |FORTUNE, DOMINIC    |\n",
      "|IRON MAN/TONY STARK |ERWIN, CLYTEMNESTRA |\n",
      "+--------------------+--------------------+\n",
      "only showing top 20 rows\n",
      "\n"
     ]
    }
   ],
   "source": [
    "# https://www.kaggle.com/datasets/csanhueza/the-marvel-universe-social-network\n",
    "csv_file_path = \"file:///home/jovyan/work/hero-network.csv\"\n",
    "\n",
    "df = spark.read\\\n",
    "            .option(\"header\", \"true\")\\\n",
    "            .option(\"inferSchema\", \"true\").csv(csv_file_path)\n",
    "df.printSchema()\n",
    "df.show(truncate=False)"
   ]
  },
  {
   "cell_type": "code",
   "execution_count": 3,
   "id": "7c248351-7200-4f43-bcd6-0cc5e277d957",
   "metadata": {},
   "outputs": [
    {
     "name": "stdout",
     "output_type": "stream",
     "text": [
      "+--------------------+--------------------+\n",
      "|                hero|          connection|\n",
      "+--------------------+--------------------+\n",
      "|             ABCISSA|[ELSIE DEE, FURY,...|\n",
      "|ABSORBING MAN | MUTA|[DRAX | MUTANT X-...|\n",
      "|ABSORBING MAN/CARL C|[SOMMERS, APRIL, ...|\n",
      "|    ADAMSON, REBECCA|[KABALLA, GOLEM I...|\n",
      "|   ADVENT/KYLE GROBE|[JUSTICE II/VANCE...|\n",
      "|      AGAMEMNON III/|[ASTER, LUCIAN, H...|\n",
      "|            AGAMOTTO|[MUNIPOOR, DORMAM...|\n",
      "|             AGGAMON|[DR. STRANGE/STEP...|\n",
      "|              AGINAR|[SIF, REJECT/RAN-...|\n",
      "|                AGON|[MARISTA, BLACK B...|\n",
      "|               AINET|[STORM/ORORO MUNR...|\n",
      "|    AKUTAGAWA, OSAMU|[HUMAN TORCH/JOHN...|\n",
      "|ALDEN, PROF. MEREDIT|[CABE, BETHANY, S...|\n",
      "|             ALISTRO|[ENCHANTRESS/AMOR...|\n",
      "|       ALVAREZ, PAUL|[ATOR, GENERAL, Z...|\n",
      "|   AMERICAN SAMURAI/|[PAGE, KAREN, DAR...|\n",
      "|             AMPERE/|[QUICKSILVER/PIET...|\n",
      "|           ANCESTOR/|[RECORDER II, FOU...|\n",
      "|ANCIENT ONE/BARON MO|[BLOODSTORM | MUT...|\n",
      "|    ANDERSSEN, TANYA|[KA-ZAR/KEVIN PLU...|\n",
      "+--------------------+--------------------+\n",
      "only showing top 20 rows\n",
      "\n"
     ]
    }
   ],
   "source": [
    "data = df.groupBy(\"hero1\").agg(f.collect_set(\"hero2\").alias(\"connection\"))\\\n",
    "        .withColumnRenamed(\"hero1\", \"hero\")\n",
    "data.show()"
   ]
  },
  {
   "cell_type": "code",
   "execution_count": 5,
   "id": "8fdafd2c-54c9-4172-a02c-246a122ff8bc",
   "metadata": {},
   "outputs": [],
   "source": [
    "data.withColumn(\"connection\", f.concat_ws(\",\", f.col(\"connection\")))\\\n",
    "    .coalesce(1).write.option(\"header\", True).csv(\"output\")"
   ]
  },
  {
   "cell_type": "code",
   "execution_count": 7,
   "id": "dcd4ddbb-4eee-4121-a070-d65edc853184",
   "metadata": {},
   "outputs": [
    {
     "name": "stdout",
     "output_type": "stream",
     "text": [
      "+--------------------+--------------------+\n",
      "|                hero|          connection|\n",
      "+--------------------+--------------------+\n",
      "|             ABCISSA|ELSIE DEE,FURY, C...|\n",
      "|ABSORBING MAN | MUTA|DRAX | MUTANT X-V...|\n",
      "|ABSORBING MAN/CARL C|SOMMERS, APRIL,HE...|\n",
      "|    ADAMSON, REBECCA|KABALLA,GOLEM III...|\n",
      "|   ADVENT/KYLE GROBE|JUSTICE II/VANCE ...|\n",
      "|      AGAMEMNON III/|ASTER, LUCIAN,HOG...|\n",
      "|            AGAMOTTO|MUNIPOOR,DORMAMMU...|\n",
      "|             AGGAMON| DR. STRANGE/STEPHEN|\n",
      "|              AGINAR|SIF,REJECT/RAN-SA...|\n",
      "|                AGON|MARISTA,BLACK BOL...|\n",
      "|               AINET|STORM/ORORO MUNRO...|\n",
      "|    AKUTAGAWA, OSAMU|HUMAN TORCH/JOHNN...|\n",
      "|ALDEN, PROF. MEREDIT|CABE, BETHANY,STO...|\n",
      "|             ALISTRO|ENCHANTRESS/AMORA...|\n",
      "|       ALVAREZ, PAUL|ATOR, GENERAL,ZAR...|\n",
      "|   AMERICAN SAMURAI/|PAGE, KAREN,DARED...|\n",
      "|             AMPERE/|QUICKSILVER/PIETR...|\n",
      "|           ANCESTOR/|RECORDER II,FOUND...|\n",
      "|ANCIENT ONE/BARON MO|BLOODSTORM | MUTA...|\n",
      "|    ANDERSSEN, TANYA|KA-ZAR/KEVIN PLUN...|\n",
      "+--------------------+--------------------+\n",
      "only showing top 20 rows\n",
      "\n"
     ]
    }
   ],
   "source": [
    "csv_file_path = \"file:///home/jovyan/work/output\"\n",
    "df = spark.read\\\n",
    "        .option(\"header\", \"true\")\\\n",
    "        .option(\"inferSchema\", \"true\")\\\n",
    "        .csv(csv_file_path)\n",
    "df.show()"
   ]
  },
  {
   "cell_type": "code",
   "execution_count": 11,
   "id": "242f796a-9f4f-4724-bbba-2a599bd36b22",
   "metadata": {},
   "outputs": [
    {
     "name": "stdout",
     "output_type": "stream",
     "text": [
      "+--------------------+--------------------+---------------+\n",
      "|                hero|          connection|connection_size|\n",
      "+--------------------+--------------------+---------------+\n",
      "|     CAPTAIN AMERICA|URICH, DORIS,ARMA...|           1795|\n",
      "|SPIDER-MAN/PETER PAR|MAGMA II/JONATHAN...|           1737|\n",
      "| IRON MAN/TONY STARK|RED SHIFT,SABRETO...|           1443|\n",
      "|     WOLVERINE/LOGAN|SABRETOOTH/VICTOR...|           1278|\n",
      "|THING/BENJAMIN J. GR|CHORD, ANDREW,CAT...|           1262|\n",
      "| SCARLET WITCH/WANDA|SABRETOOTH/VICTOR...|           1246|\n",
      "|HUMAN TORCH/JOHNNY S|CAT KING,BUZZ,MAK...|           1202|\n",
      "|MR. FANTASTIC/REED R|ARMADILLO/ANTONIO...|           1200|\n",
      "|THOR/DR. DONALD BLAK|PARKER, MAY | TIM...|           1183|\n",
      "| INVISIBLE WOMAN/SUE|CAPTAIN MARVEL II...|           1143|\n",
      "|BEAST/HENRY &HANK& P|AMERICAN EAGLE II...|           1140|\n",
      "|              VISION|PHOSPHORUS,AMERIC...|           1110|\n",
      "|                HAWK|AMERICAN EAGLE II...|           1086|\n",
      "|CYCLOPS/SCOTT SUMMER|SABRETOOTH/VICTOR...|           1004|\n",
      "|HULK/DR. ROBERT BRUC|SABRETOOTH/VICTOR...|            978|\n",
      "|ANT-MAN/DR. HENRY J.|DEVEREAUX, MICHEL...|            953|\n",
      "|STORM/ORORO MUNROE S|SABRETOOTH/VICTOR...|            952|\n",
      "| DR. STRANGE/STEPHEN|AMERICAN EAGLE II...|            946|\n",
      "|COLOSSUS II/PETER RA|SABRETOOTH/VICTOR...|            944|\n",
      "| PROFESSOR X/CHARLES|SABRETOOTH/VICTOR...|            940|\n",
      "+--------------------+--------------------+---------------+\n",
      "only showing top 20 rows\n",
      "\n"
     ]
    }
   ],
   "source": [
    "df = df.withColumn(\n",
    "    \"connection_size\",\n",
    "    f.size(\n",
    "        f.split(f.col(\"connection\"), \",\")))\\\n",
    "    .orderBy(f.desc(\"connection_size\"))\n",
    "df.show()"
   ]
  }
 ],
 "metadata": {
  "kernelspec": {
   "display_name": "Python 3 (ipykernel)",
   "language": "python",
   "name": "python3"
  },
  "language_info": {
   "codemirror_mode": {
    "name": "ipython",
    "version": 3
   },
   "file_extension": ".py",
   "mimetype": "text/x-python",
   "name": "python",
   "nbconvert_exporter": "python",
   "pygments_lexer": "ipython3",
   "version": "3.11.6"
  }
 },
 "nbformat": 4,
 "nbformat_minor": 5
}
