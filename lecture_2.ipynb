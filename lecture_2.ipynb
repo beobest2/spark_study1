{
 "cells": [
  {
   "cell_type": "code",
   "execution_count": 11,
   "id": "183f95ea-c3f4-4d0b-8b56-c5f3960e4da4",
   "metadata": {},
   "outputs": [
    {
     "data": {
      "text/plain": [
       "defaultdict(int, {'70': 1, '80': 1, '100': 1, '90': 2})"
      ]
     },
     "execution_count": 11,
     "metadata": {},
     "output_type": "execute_result"
    }
   ],
   "source": [
    "import collections\n",
    "import pyspark\n",
    "\n",
    "text_file = \"file:///home/jovyan/work/grade.txt\"\n",
    "sc = pyspark.SparkContext.getOrCreate()\n",
    "\n",
    "text_rdd = sc.textFile(text_file)\n",
    "\n",
    "grade = text_rdd.map(lambda line: line.split(\" \")[1])\n",
    "\n",
    "# return the count of each unique value in this RDD as a dictionary of (value, count) pairs.\n",
    "grade_count = grade.countByValue()\n",
    "\n",
    "grade_count"
   ]
  }
 ],
 "metadata": {
  "kernelspec": {
   "display_name": "Python 3 (ipykernel)",
   "language": "python",
   "name": "python3"
  },
  "language_info": {
   "codemirror_mode": {
    "name": "ipython",
    "version": 3
   },
   "file_extension": ".py",
   "mimetype": "text/x-python",
   "name": "python",
   "nbconvert_exporter": "python",
   "pygments_lexer": "ipython3",
   "version": "3.11.6"
  }
 },
 "nbformat": 4,
 "nbformat_minor": 5
}
