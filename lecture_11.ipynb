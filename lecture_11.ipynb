{
 "cells": [
  {
   "cell_type": "code",
   "execution_count": 1,
   "id": "d88a192d-115c-4f4f-bd42-865f96dba048",
   "metadata": {},
   "outputs": [],
   "source": [
    "from pyspark.sql import (\n",
    "    functions as f,\n",
    "    Row,\n",
    "    SparkSession,\n",
    "    types as t\n",
    ")\n",
    "\n",
    "spark = SparkSession.builder.appName(\"df_total\").getOrCreate()"
   ]
  },
  {
   "cell_type": "code",
   "execution_count": 3,
   "id": "a5212aec-eb07-4341-98b8-17299ac28d3d",
   "metadata": {},
   "outputs": [
    {
     "name": "stdout",
     "output_type": "stream",
     "text": [
      "+--------------------+----------+-----+\n",
      "|       customer_name|product_id|price|\n",
      "+--------------------+----------+-----+\n",
      "|      Whitney Duncan|      2265|  899|\n",
      "|       Ebonie Hudson|      2509|  762|\n",
      "|        Luise Warren|      1995|  657|\n",
      "|        Kenton Floyd|      2271|  829|\n",
      "|       Kasie Douglas|      2507|  254|\n",
      "|          Elden Ward|      1486|  369|\n",
      "|      Hyacinth Kelly|      1355|  660|\n",
      "|   Alishia Stevenson|      3173|  368|\n",
      "|      Amado Castillo|      1465|  242|\n",
      "|       Daniell Mills|      3043|   44|\n",
      "|          King Price|      1579|  607|\n",
      "|       Luise Chapman|      2149|  705|\n",
      "|        Hobert Grant|      2858|  777|\n",
      "|       Michal Steele|      1500|  519|\n",
      "|       Elenore Watts|      2123|  670|\n",
      "|Cristobal Montgomery|      1378|  630|\n",
      "|     Towanda Stevens|      3122|  358|\n",
      "|     Hildred Sanders|      3589|  193|\n",
      "|        Cordie Terry|      3967|   49|\n",
      "|       Eugene Farmer|      1966|  529|\n",
      "+--------------------+----------+-----+\n",
      "only showing top 20 rows\n",
      "\n"
     ]
    }
   ],
   "source": [
    "csv_file_path = \"file:///home/jovyan/work/product.csv\"\n",
    "\n",
    "table_schema = t.StructType([\n",
    "    t.StructField(\"customer_name\", t.StringType(), True),\n",
    "    t.StructField(\"product_id\", t.IntegerType(), True),\n",
    "    t.StructField(\"price\", t.IntegerType(), True)])\n",
    "\n",
    "df = spark.read.schema(table_schema).csv(csv_file_path)\n",
    "df.show()"
   ]
  },
  {
   "cell_type": "code",
   "execution_count": 8,
   "id": "d719474b-8f9a-4555-9d11-9004ac42273f",
   "metadata": {},
   "outputs": [
    {
     "name": "stdout",
     "output_type": "stream",
     "text": [
      "+----------------+----+\n",
      "|   customer_name|cost|\n",
      "+----------------+----+\n",
      "|    Kasey Moreno| 757|\n",
      "|   Jefferey Hill| 457|\n",
      "|   Marget Fowler| 949|\n",
      "|    Lesley Wolfe| 809|\n",
      "| Cristie Perkins| 787|\n",
      "| Emerald Jackson| 400|\n",
      "|    Gwyn Mcbride| 943|\n",
      "| Apolonia Peters| 517|\n",
      "|   Lacy Robinson| 343|\n",
      "|   Francie Welch| 809|\n",
      "|    Herta Cooper| 733|\n",
      "|     Otha Dawson| 663|\n",
      "|     Hank Keller| 208|\n",
      "|Shavonne Watkins| 587|\n",
      "|  Angelo Goodwin| 720|\n",
      "|   Shon Castillo|  99|\n",
      "| Evelin Crawford| 370|\n",
      "|     Lyndon Diaz|  15|\n",
      "|    Narcisa Hale| 223|\n",
      "|  Glennie Farmer| 407|\n",
      "+----------------+----+\n",
      "only showing top 20 rows\n",
      "\n"
     ]
    }
   ],
   "source": [
    "customer_spent = df.groupBy(\"customer_name\")\\\n",
    "                    .agg(f.sum(\"price\").alias(\"cost\"))\n",
    "customer_spent.show()"
   ]
  },
  {
   "cell_type": "code",
   "execution_count": 9,
   "id": "96c65ca1-4d48-4668-9d14-e7f451f6e651",
   "metadata": {},
   "outputs": [
    {
     "name": "stdout",
     "output_type": "stream",
     "text": [
      "+-----------------+----+\n",
      "|    customer_name|cost|\n",
      "+-----------------+----+\n",
      "|     Damion Wolfe|1397|\n",
      "| Benedict Frazier| 998|\n",
      "|  Giuseppe Miller| 997|\n",
      "|    Garret Martin| 997|\n",
      "|Erminia Robertson| 997|\n",
      "|     Milan Gibson| 996|\n",
      "|     Rudy Wheeler| 994|\n",
      "|   Kathey Baldwin| 994|\n",
      "|   Williemae Bell| 992|\n",
      "|Gearldine Aguilar| 988|\n",
      "|      Jewel Parks| 987|\n",
      "|     Hyman Castro| 985|\n",
      "|    Noriko Medina| 984|\n",
      "|     Garfield Day| 982|\n",
      "|      Dacia Adams| 981|\n",
      "|     Taisha Henry| 980|\n",
      "|    Branda Valdez| 978|\n",
      "|     Fumiko Weber| 976|\n",
      "|Geraldo Alexander| 975|\n",
      "|      Walker Pope| 975|\n",
      "+-----------------+----+\n",
      "only showing top 20 rows\n",
      "\n"
     ]
    }
   ],
   "source": [
    "sorted_customer_spent = customer_spent.orderBy(f.col(\"cost\").desc())\n",
    "sorted_customer_spent.show()"
   ]
  },
  {
   "cell_type": "code",
   "execution_count": null,
   "id": "eb5b5898-f359-4deb-96c0-027050b0042a",
   "metadata": {},
   "outputs": [],
   "source": []
  }
 ],
 "metadata": {
  "kernelspec": {
   "display_name": "Python 3 (ipykernel)",
   "language": "python",
   "name": "python3"
  },
  "language_info": {
   "codemirror_mode": {
    "name": "ipython",
    "version": 3
   },
   "file_extension": ".py",
   "mimetype": "text/x-python",
   "name": "python",
   "nbconvert_exporter": "python",
   "pygments_lexer": "ipython3",
   "version": "3.11.6"
  }
 },
 "nbformat": 4,
 "nbformat_minor": 5
}
