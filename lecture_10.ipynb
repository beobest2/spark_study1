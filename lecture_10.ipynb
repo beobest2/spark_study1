{
 "cells": [
  {
   "cell_type": "code",
   "execution_count": 1,
   "id": "840a12f7-0ece-44f8-b6b7-c98c57f0ddc0",
   "metadata": {},
   "outputs": [],
   "source": [
    "from pyspark.sql import (\n",
    "    functions as f,\n",
    "    Row,\n",
    "    SparkSession,\n",
    "    types as t\n",
    ")\n",
    "\n",
    "spark = SparkSession.builder.appName(\"df_struct\").getOrCreate()"
   ]
  },
  {
   "cell_type": "code",
   "execution_count": 11,
   "id": "8ce2a42b-76a8-4be8-ab34-45703003c048",
   "metadata": {},
   "outputs": [],
   "source": [
    "csv_file_path = \"file:///home/jovyan/work/temp_with_date.csv\"\n",
    "\n",
    "# types.StructField(name, dataType, nullable=True, metadata=None)\n",
    "table_schema = t.StructType([\n",
    "    t.StructField(\"city\", t.StringType(), True),\n",
    "    t.StructField(\"temperature\", t.FloatType(), True),\n",
    "    t.StructField(\"observed_date\", t.StringType(), True)])"
   ]
  },
  {
   "cell_type": "code",
   "execution_count": 8,
   "id": "8f5224de-25d8-4ada-84dc-4d3d1051b28a",
   "metadata": {},
   "outputs": [
    {
     "name": "stdout",
     "output_type": "stream",
     "text": [
      "+--------------------+-----------+-------------+\n",
      "|                city|temperature|observed_date|\n",
      "+--------------------+-----------+-------------+\n",
      "|                Guam|      -25.0|   2022-03-25|\n",
      "|                Guam|       39.0|   2022-02-18|\n",
      "|              Serbia|      -35.0|   2022-08-31|\n",
      "|       French Guiana|       -6.0|   2022-04-03|\n",
      "|Falkland Islands ...|      -40.0|   2022-05-26|\n",
      "|              Brazil|       15.0|   2022-02-11|\n",
      "|             Tunisia|      -31.0|   2022-09-20|\n",
      "|            Portugal|        7.0|   2022-01-02|\n",
      "|                Iran|      -22.0|   2022-08-14|\n",
      "|           Australia|       -5.0|   2022-01-12|\n",
      "|              Gambia|       21.0|   2022-08-08|\n",
      "|               Italy|       31.0|   2022-08-26|\n",
      "|          Guadeloupe|      -39.0|   2022-07-13|\n",
      "|        South Africa|      -24.0|   2022-05-02|\n",
      "|              Malawi|       -6.0|   2022-06-13|\n",
      "|                Iran|       34.0|   2022-09-28|\n",
      "|      Norfolk Island|       -5.0|   2022-02-21|\n",
      "|Lao People's Demo...|       25.0|   2022-11-17|\n",
      "|   Republic of Korea|      -18.0|   2022-07-13|\n",
      "|           Singapore|      -15.0|   2022-05-18|\n",
      "+--------------------+-----------+-------------+\n",
      "only showing top 20 rows\n",
      "\n",
      "root\n",
      " |-- city: string (nullable = true)\n",
      " |-- temperature: float (nullable = true)\n",
      " |-- observed_date: string (nullable = true)\n",
      "\n"
     ]
    }
   ],
   "source": [
    "df = spark.read.schema(table_schema).csv(csv_file_path)\n",
    "df.show()\n",
    "df.printSchema()"
   ]
  },
  {
   "cell_type": "code",
   "execution_count": 15,
   "id": "e1ecbafc-750b-46e8-a907-61ab2f1787da",
   "metadata": {},
   "outputs": [
    {
     "name": "stdout",
     "output_type": "stream",
     "text": [
      "+--------------------+-------------------+\n",
      "|                city|   avg(temperature)|\n",
      "+--------------------+-------------------+\n",
      "|                Chad|  4.333333333333333|\n",
      "|            Anguilla| -5.714285714285714|\n",
      "|            Paraguay|               31.0|\n",
      "|               Macao|              -33.5|\n",
      "|Heard Island and ...|              -5.75|\n",
      "|               Yemen|               13.6|\n",
      "|             Senegal|                4.4|\n",
      "|              Sweden| -5.666666666666667|\n",
      "|             Tokelau|-2.6666666666666665|\n",
      "|            Kiribati|              -6.75|\n",
      "|French Southern T...|                0.0|\n",
      "|   Republic of Korea| 13.333333333333334|\n",
      "|              Guyana|  4.714285714285714|\n",
      "|             Eritrea|                0.8|\n",
      "|         Philippines|              -4.75|\n",
      "|              Jersey|                7.0|\n",
      "|      Norfolk Island|                3.0|\n",
      "|               Tonga|              -12.0|\n",
      "|           Singapore|-2.3333333333333335|\n",
      "|            Malaysia|-2.3333333333333335|\n",
      "+--------------------+-------------------+\n",
      "only showing top 20 rows\n",
      "\n"
     ]
    }
   ],
   "source": [
    "avg_temperature = df.groupBy(\"city\").mean(\"temperature\")\n",
    "avg_temperature.show()"
   ]
  },
  {
   "cell_type": "code",
   "execution_count": 18,
   "id": "17884eb6-2134-4a14-9b60-350320412dcc",
   "metadata": {},
   "outputs": [
    {
     "name": "stdout",
     "output_type": "stream",
     "text": [
      "+--------------------+-----------+-------------+----------------------+\n",
      "|                city|temperature|observed_date|fahrenheit_temperature|\n",
      "+--------------------+-----------+-------------+----------------------+\n",
      "|                Guam|      -25.0|   2022-03-25|                 -13.0|\n",
      "|                Guam|       39.0|   2022-02-18|                 102.2|\n",
      "|              Serbia|      -35.0|   2022-08-31|                 -31.0|\n",
      "|       French Guiana|       -6.0|   2022-04-03|                  21.2|\n",
      "|Falkland Islands ...|      -40.0|   2022-05-26|                 -40.0|\n",
      "|              Brazil|       15.0|   2022-02-11|                  59.0|\n",
      "|             Tunisia|      -31.0|   2022-09-20|   -23.799999999999997|\n",
      "|            Portugal|        7.0|   2022-01-02|                  44.6|\n",
      "|                Iran|      -22.0|   2022-08-14|    -7.600000000000001|\n",
      "|           Australia|       -5.0|   2022-01-12|                  23.0|\n",
      "|              Gambia|       21.0|   2022-08-08|                  69.8|\n",
      "|               Italy|       31.0|   2022-08-26|                  87.8|\n",
      "|          Guadeloupe|      -39.0|   2022-07-13|                 -38.2|\n",
      "|        South Africa|      -24.0|   2022-05-02|   -11.200000000000003|\n",
      "|              Malawi|       -6.0|   2022-06-13|                  21.2|\n",
      "|                Iran|       34.0|   2022-09-28|                  93.2|\n",
      "|      Norfolk Island|       -5.0|   2022-02-21|                  23.0|\n",
      "|Lao People's Demo...|       25.0|   2022-11-17|                  77.0|\n",
      "|   Republic of Korea|      -18.0|   2022-07-13|   -0.3999999999999986|\n",
      "|           Singapore|      -15.0|   2022-05-18|                   5.0|\n",
      "+--------------------+-----------+-------------+----------------------+\n",
      "only showing top 20 rows\n",
      "\n"
     ]
    }
   ],
   "source": [
    "# celsius to fahrenheit: (0 C x 9/5) + 32\n",
    "f_temperature = df.withColumn(\n",
    "                    \"fahrenheit_temperature\",\n",
    "                    (f.col(\"temperature\") * 9/5) + 32\n",
    "                )\n",
    "f_temperature.show()"
   ]
  }
 ],
 "metadata": {
  "kernelspec": {
   "display_name": "Python 3 (ipykernel)",
   "language": "python",
   "name": "python3"
  },
  "language_info": {
   "codemirror_mode": {
    "name": "ipython",
    "version": 3
   },
   "file_extension": ".py",
   "mimetype": "text/x-python",
   "name": "python",
   "nbconvert_exporter": "python",
   "pygments_lexer": "ipython3",
   "version": "3.11.6"
  }
 },
 "nbformat": 4,
 "nbformat_minor": 5
}
