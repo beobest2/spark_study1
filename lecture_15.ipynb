{
 "cells": [
  {
   "cell_type": "code",
   "execution_count": 1,
   "id": "b41995aa-de4b-49f0-8326-7e8227abbff2",
   "metadata": {},
   "outputs": [],
   "source": [
    "from pyspark.sql import (\n",
    "    functions as f,\n",
    "    SparkSession,\n",
    "    types as t\n",
    ")\n",
    "\n",
    "spark = SparkSession.builder.appName(\"df_join\").getOrCreate()"
   ]
  },
  {
   "cell_type": "code",
   "execution_count": 2,
   "id": "cdd010d5-1a85-4cd0-af98-31ddf9a42b1e",
   "metadata": {},
   "outputs": [
    {
     "name": "stdout",
     "output_type": "stream",
     "text": [
      "+----+-------------+--------+\n",
      "|  id|         name| company|\n",
      "+----+-------------+--------+\n",
      "|1000|Neville Hardy|   Apple|\n",
      "|2000|  Dacia Cohen|Alphabet|\n",
      "|3000|    Elois Cox|  Neflix|\n",
      "|4000| Junita Meyer|    Meta|\n",
      "|5000| Cleora Banks|  Amazon|\n",
      "+----+-------------+--------+\n",
      "\n",
      "+----+------+--------------+\n",
      "|  id|salary|    department|\n",
      "+----+------+--------------+\n",
      "|1000|150000|      engineer|\n",
      "|2000|240000|       manager|\n",
      "|3000|120000|human resource|\n",
      "|6000|100000|         sales|\n",
      "+----+------+--------------+\n",
      "\n"
     ]
    }
   ],
   "source": [
    "# user data\n",
    "user_data = [\n",
    "    [\"1000\", \"Neville Hardy\", \"Apple\"],\n",
    "    [\"2000\", \"Dacia Cohen\", \"Alphabet\"],\n",
    "    [\"3000\", \"Elois Cox\", \"Neflix\"],\n",
    "    [\"4000\", \"Junita Meyer\", \"Meta\"],\n",
    "    [\"5000\", \"Cleora Banks\", \"Amazon\"]]\n",
    "\n",
    "user_col = ['id', 'name', 'company']\n",
    "df_user = spark.createDataFrame(data=user_data, schema=user_col)\n",
    "df_user.show()\n",
    "\n",
    "# salary data\n",
    "salary_data = [\n",
    "    [\"1000\", \"150000\", \"engineer\"],\n",
    "    [\"2000\", \"240000\", \"manager\"],\n",
    "    [\"3000\", \"120000\", \"human resource\"],\n",
    "    [\"6000\", \"100000\", \"sales\"]]\n",
    "\n",
    "salary_col = ['id', 'salary', 'department']\n",
    "df_salary = spark.createDataFrame(data=salary_data, schema=salary_col)\n",
    "df_salary.show()"
   ]
  },
  {
   "cell_type": "code",
   "execution_count": 10,
   "id": "e69fa13d-c1ba-4b8a-8140-f9e48a61bf0f",
   "metadata": {},
   "outputs": [
    {
     "name": "stdout",
     "output_type": "stream",
     "text": [
      "== inner join ==\n",
      "+----+-------------+--------+----+------+--------------+\n",
      "|  id|         name| company|  id|salary|    department|\n",
      "+----+-------------+--------+----+------+--------------+\n",
      "|1000|Neville Hardy|   Apple|1000|150000|      engineer|\n",
      "|2000|  Dacia Cohen|Alphabet|2000|240000|       manager|\n",
      "|3000|    Elois Cox|  Neflix|3000|120000|human resource|\n",
      "+----+-------------+--------+----+------+--------------+\n",
      "\n",
      "+----+-------------+-------+----+------+----------+\n",
      "|  id|         name|company|  id|salary|department|\n",
      "+----+-------------+-------+----+------+----------+\n",
      "|1000|Neville Hardy|  Apple|1000|150000|  engineer|\n",
      "+----+-------------+-------+----+------+----------+\n",
      "\n",
      "+----+-------------+-------+----+------+----------+\n",
      "|  id|         name|company|  id|salary|department|\n",
      "+----+-------------+-------+----+------+----------+\n",
      "|1000|Neville Hardy|  Apple|1000|150000|  engineer|\n",
      "+----+-------------+-------+----+------+----------+\n",
      "\n",
      "+----+-------------+-------+----+------+----------+\n",
      "|  id|         name|company|  id|salary|department|\n",
      "+----+-------------+-------+----+------+----------+\n",
      "|1000|Neville Hardy|  Apple|1000|150000|  engineer|\n",
      "+----+-------------+-------+----+------+----------+\n",
      "\n"
     ]
    }
   ],
   "source": [
    "# inner join: join the two dataframes on common key columns.\n",
    "print(\"== inner join ==\")\n",
    "df_user.join(df_salary,\n",
    "               df_user.id == df_salary.id,\n",
    "               \"inner\").show()\n",
    "\n",
    "# inner join, then filter\n",
    "df_user.join(df_salary,\n",
    "               df_user.id == df_salary.id,\n",
    "               \"inner\").filter(df_user.id == 1000).show()\n",
    "\n",
    "# inner join, then where\n",
    "df_user.join(df_salary,\n",
    "               df_user.id == df_salary.id,\n",
    "               \"inner\").where(df_user.id == 1000).show()\n",
    "\n",
    "# multiple join with &\n",
    "df_user.join(df_salary,\n",
    "               (df_user.id == df_salary.id) & (df_user.id == 1000)\n",
    "            ).show()"
   ]
  },
  {
   "cell_type": "code",
   "execution_count": 11,
   "id": "787afcab-2c00-4114-80b0-11350b37d151",
   "metadata": {},
   "outputs": [
    {
     "name": "stdout",
     "output_type": "stream",
     "text": [
      "== full outer join ==\n",
      "+----+-------------+--------+----+------+--------------+\n",
      "|  id|         name| company|  id|salary|    department|\n",
      "+----+-------------+--------+----+------+--------------+\n",
      "|1000|Neville Hardy|   Apple|1000|150000|      engineer|\n",
      "|2000|  Dacia Cohen|Alphabet|2000|240000|       manager|\n",
      "|3000|    Elois Cox|  Neflix|3000|120000|human resource|\n",
      "|4000| Junita Meyer|    Meta|NULL|  NULL|          NULL|\n",
      "|5000| Cleora Banks|  Amazon|NULL|  NULL|          NULL|\n",
      "|NULL|         NULL|    NULL|6000|100000|         sales|\n",
      "+----+-------------+--------+----+------+--------------+\n",
      "\n"
     ]
    }
   ],
   "source": [
    "# full outer join: join the two dataframes with all matching and non-matching rows\n",
    "print(\"== full outer join ==\")\n",
    "df_user.join(df_salary, \n",
    "               df_user.id == df_salary.id, \n",
    "               \"fullouter\").show()"
   ]
  },
  {
   "cell_type": "code",
   "execution_count": 12,
   "id": "39782815-ac85-4ad3-a435-82ff849022ff",
   "metadata": {},
   "outputs": [
    {
     "name": "stdout",
     "output_type": "stream",
     "text": [
      "== left join ==\n",
      "+----+-------------+--------+----+------+--------------+\n",
      "|  id|         name| company|  id|salary|    department|\n",
      "+----+-------------+--------+----+------+--------------+\n",
      "|1000|Neville Hardy|   Apple|1000|150000|      engineer|\n",
      "|2000|  Dacia Cohen|Alphabet|2000|240000|       manager|\n",
      "|3000|    Elois Cox|  Neflix|3000|120000|human resource|\n",
      "|4000| Junita Meyer|    Meta|NULL|  NULL|          NULL|\n",
      "|5000| Cleora Banks|  Amazon|NULL|  NULL|          NULL|\n",
      "+----+-------------+--------+----+------+--------------+\n",
      "\n"
     ]
    }
   ],
   "source": [
    "# left join:  joins by returning all rows from the first dataframe and only matched rows from the second one\n",
    "print(\"== left join ==\")\n",
    "df_user.join(df_salary, \n",
    "               df_user.id == df_salary.id, \n",
    "               \"left\").show()"
   ]
  },
  {
   "cell_type": "code",
   "execution_count": 16,
   "id": "25ec785b-5ab7-4688-90af-ca10c8bc2cef",
   "metadata": {},
   "outputs": [
    {
     "name": "stdout",
     "output_type": "stream",
     "text": [
      "== left semi join ==\n",
      "+----+-------------+--------+\n",
      "|  id|         name| company|\n",
      "+----+-------------+--------+\n",
      "|1000|Neville Hardy|   Apple|\n",
      "|2000|  Dacia Cohen|Alphabet|\n",
      "|3000|    Elois Cox|  Neflix|\n",
      "+----+-------------+--------+\n",
      "\n",
      "== left anti join ==\n",
      "+----+------------+-------+\n",
      "|  id|        name|company|\n",
      "+----+------------+-------+\n",
      "|4000|Junita Meyer|   Meta|\n",
      "|5000|Cleora Banks| Amazon|\n",
      "+----+------------+-------+\n",
      "\n"
     ]
    }
   ],
   "source": [
    "# left semi join: join all rows from the first dataframe and return only matched rows from the second one\n",
    "print(\"== left semi join ==\")\n",
    "df_user.join(df_salary, \n",
    "               df_user.id == df_salary.id, \n",
    "               \"leftsemi\").show()\n",
    "\n",
    "# left anti join: join returns only columns from the first dataframe for non-matched records of the second dataframe\n",
    "print(\"== left anti join ==\")\n",
    "df_user.join(df_salary, \n",
    "               df_user.id == df_salary.id, \n",
    "               \"leftanti\").show()"
   ]
  },
  {
   "cell_type": "code",
   "execution_count": 18,
   "id": "17116251-5fbd-41cc-b78d-ea2854e4098a",
   "metadata": {},
   "outputs": [
    {
     "name": "stdout",
     "output_type": "stream",
     "text": [
      "+----+-------------+--------+----+------+--------------+\n",
      "|  id|         name| company|  id|salary|    department|\n",
      "+----+-------------+--------+----+------+--------------+\n",
      "|1000|Neville Hardy|   Apple|1000|150000|      engineer|\n",
      "|2000|  Dacia Cohen|Alphabet|2000|240000|       manager|\n",
      "|3000|    Elois Cox|  Neflix|3000|120000|human resource|\n",
      "+----+-------------+--------+----+------+--------------+\n",
      "\n",
      "+----+-------------+--------+----+------+--------------+\n",
      "|  id|         name| company|  id|salary|    department|\n",
      "+----+-------------+--------+----+------+--------------+\n",
      "|1000|Neville Hardy|   Apple|1000|150000|      engineer|\n",
      "|2000|  Dacia Cohen|Alphabet|2000|240000|       manager|\n",
      "|3000|    Elois Cox|  Neflix|3000|120000|human resource|\n",
      "+----+-------------+--------+----+------+--------------+\n",
      "\n",
      "+----+-------------+--------+----+------+--------------+\n",
      "|  id|         name| company|  id|salary|    department|\n",
      "+----+-------------+--------+----+------+--------------+\n",
      "|1000|Neville Hardy|   Apple|1000|150000|      engineer|\n",
      "|2000|  Dacia Cohen|Alphabet|2000|240000|       manager|\n",
      "|3000|    Elois Cox|  Neflix|3000|120000|human resource|\n",
      "|4000| Junita Meyer|    Meta|NULL|  NULL|          NULL|\n",
      "|5000| Cleora Banks|  Amazon|NULL|  NULL|          NULL|\n",
      "+----+-------------+--------+----+------+--------------+\n",
      "\n"
     ]
    }
   ],
   "source": [
    "# SQL join\n",
    "df_user.createOrReplaceTempView(\"user\")\n",
    "df_salary.createOrReplaceTempView(\"salary\")\n",
    "\n",
    "spark.sql(\"SELECT * FROM user, salary WHERE user.id == salary.id\").show()\n",
    "\n",
    "spark.sql(\"SELECT * FROM user INNER JOIN salary ON user.id == salary.id\").show()\n",
    "\n",
    "spark.sql(\"SELECT * FROM user LEFT JOIN salary ON user.id == salary.id\").show()"
   ]
  },
  {
   "cell_type": "code",
   "execution_count": null,
   "id": "c44fc4c5-ede4-400f-a353-7423c7a241d1",
   "metadata": {},
   "outputs": [],
   "source": []
  }
 ],
 "metadata": {
  "kernelspec": {
   "display_name": "Python 3 (ipykernel)",
   "language": "python",
   "name": "python3"
  },
  "language_info": {
   "codemirror_mode": {
    "name": "ipython",
    "version": 3
   },
   "file_extension": ".py",
   "mimetype": "text/x-python",
   "name": "python",
   "nbconvert_exporter": "python",
   "pygments_lexer": "ipython3",
   "version": "3.11.6"
  }
 },
 "nbformat": 4,
 "nbformat_minor": 5
}
