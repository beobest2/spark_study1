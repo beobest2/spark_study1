{
 "cells": [
  {
   "cell_type": "code",
   "execution_count": 1,
   "id": "151fb88f-b36c-4976-b7e4-50a2a47d58b4",
   "metadata": {},
   "outputs": [],
   "source": [
    "import pyspark\n",
    "sc = pyspark.SparkContext.getOrCreate()"
   ]
  },
  {
   "cell_type": "code",
   "execution_count": 2,
   "id": "9951540b-fc6e-4c72-841c-78036d6151e5",
   "metadata": {},
   "outputs": [],
   "source": [
    "test_file = \"file:///home/jovyan/work/temperature.csv\""
   ]
  },
  {
   "cell_type": "code",
   "execution_count": 5,
   "id": "e432f5da-c554-43d1-96f4-2ce5b618f4c0",
   "metadata": {},
   "outputs": [
    {
     "data": {
      "text/plain": [
       "[('Auckland', 'NA'),\n",
       " ('Auckland', 'NA'),\n",
       " ('Auckland', 'NA'),\n",
       " ('Auckland', 'NA'),\n",
       " ('Auckland', 'NA'),\n",
       " ('Auckland', '51.9062'),\n",
       " ('Auckland', '52.3886'),\n",
       " ('Auckland', '52.853'),\n",
       " ('Auckland', '52.5776'),\n",
       " ('Auckland', '54.8726')]"
      ]
     },
     "execution_count": 5,
     "metadata": {},
     "output_type": "execute_result"
    }
   ],
   "source": [
    "def get_data(line, header):\n",
    "    if line != header:\n",
    "        col = line.split(',')\n",
    "        city = col[6].strip(\"\\\"\")\n",
    "        avg_temp_fahr = col[4]\n",
    "        yield (city, avg_temp_fahr)\n",
    "\n",
    "lines = sc.textFile(test_file)\n",
    "\n",
    "header = lines.first()\n",
    "parsed_line = lines.flatMap(lambda line: get_data(line, header))\n",
    "parsed_line.collect()[:10]"
   ]
  },
  {
   "cell_type": "code",
   "execution_count": 6,
   "id": "d9479416-e077-4e20-990a-571b17d0d201",
   "metadata": {},
   "outputs": [
    {
     "data": {
      "text/plain": [
       "[('Auckland', '51.9062'),\n",
       " ('Auckland', '52.3886'),\n",
       " ('Auckland', '52.853'),\n",
       " ('Auckland', '52.5776'),\n",
       " ('Auckland', '54.8726'),\n",
       " ('Auckland', '56.6888'),\n",
       " ('Auckland', '59.846'),\n",
       " ('Auckland', '64.5908'),\n",
       " ('Auckland', '65.372'),\n",
       " ('Auckland', '64.9688')]"
      ]
     },
     "execution_count": 6,
     "metadata": {},
     "output_type": "execute_result"
    }
   ],
   "source": [
    "filtered_line = parsed_line.filter(lambda x: \"NA\" not in x[1])\n",
    "filtered_line.collect()[:10]"
   ]
  },
  {
   "cell_type": "code",
   "execution_count": 10,
   "id": "dee184d9-a2bc-47cb-ad8e-86243afca9e5",
   "metadata": {},
   "outputs": [
    {
     "data": {
      "text/plain": [
       "[('Auckland', 49.856),\n",
       " ('Canoas', 50.009),\n",
       " ('Cape Town', 49.9946),\n",
       " ('Hamilton', 44.564),\n",
       " ('Kherson', 7.0952),\n",
       " ('Kiev', 2.85619999999999),\n",
       " ('Lvov', 7.1726),\n",
       " ('Marseille', 39.3908),\n",
       " ('Odesa', 14.8838),\n",
       " ('Stockholm', 13.3988),\n",
       " ('Wroclaw', 9.167),\n",
       " ('NA', 12.4682),\n",
       " ('Brasília', 62.9744),\n",
       " ('Johannesburg', 42.1772),\n",
       " ('Paris', 25.0232),\n",
       " ('Tokyo', 29.156),\n",
       " ('Tottori', 34.2518),\n",
       " ('Uppsala', 6.0494),\n",
       " ('Warsaw', 6.8)]"
      ]
     },
     "execution_count": 10,
     "metadata": {},
     "output_type": "execute_result"
    }
   ],
   "source": [
    "# finding min temperature\n",
    "min_temp = filtered_line.reduceByKey(lambda x, y: min(float(x), float(y)))\n",
    "min_temp.collect()"
   ]
  },
  {
   "cell_type": "code",
   "execution_count": null,
   "id": "eae84aa6-f9d1-4f98-bfd3-3ff25f56e1b3",
   "metadata": {},
   "outputs": [],
   "source": []
  }
 ],
 "metadata": {
  "kernelspec": {
   "display_name": "Python 3 (ipykernel)",
   "language": "python",
   "name": "python3"
  },
  "language_info": {
   "codemirror_mode": {
    "name": "ipython",
    "version": 3
   },
   "file_extension": ".py",
   "mimetype": "text/x-python",
   "name": "python",
   "nbconvert_exporter": "python",
   "pygments_lexer": "ipython3",
   "version": "3.11.6"
  }
 },
 "nbformat": 4,
 "nbformat_minor": 5
}
